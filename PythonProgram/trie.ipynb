{
 "cells": [
  {
   "cell_type": "code",
   "execution_count": 6,
   "metadata": {},
   "outputs": [
    {
     "name": "stdout",
     "output_type": "stream",
     "text": [
      "defaultdict(<function Solution.longestPath.<locals>.<lambda> at 0x107246950>, {})\n",
      "None\n"
     ]
    }
   ],
   "source": [
    "import collections\n",
    "# todo\n",
    "class Solution():\n",
    "    def longestPath(self, arr):\n",
    "        Trie = lambda: collections.defaultdict(Trie)\n",
    "        trie = Trie()\n",
    "        for c in arr:\n",
    "            cur = trie\n",
    "            for i in range(len(c)):\n",
    "                cur = cur[c[i]]\n",
    "            cur[None] = True\n",
    "        \n",
    "        \n",
    "        \n",
    "        \n",
    "a = Solution()\n",
    "arr = ['a', 'ab', 'abc', 'ac']\n",
    "print( a.longestPath(arr))"
   ]
  },
  {
   "cell_type": "code",
   "execution_count": null,
   "metadata": {},
   "outputs": [],
   "source": []
  }
 ],
 "metadata": {
  "kernelspec": {
   "display_name": "Python 3",
   "language": "python",
   "name": "python3"
  },
  "language_info": {
   "codemirror_mode": {
    "name": "ipython",
    "version": 3
   },
   "file_extension": ".py",
   "mimetype": "text/x-python",
   "name": "python",
   "nbconvert_exporter": "python",
   "pygments_lexer": "ipython3",
   "version": "3.7.4"
  }
 },
 "nbformat": 4,
 "nbformat_minor": 4
}
