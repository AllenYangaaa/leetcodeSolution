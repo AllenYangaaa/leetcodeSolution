{
 "cells": [
  {
   "cell_type": "code",
   "execution_count": 2,
   "metadata": {},
   "outputs": [
    {
     "name": "stdout",
     "output_type": "stream",
     "text": [
      "[(1, 2), (1, -1)]\n"
     ]
    }
   ],
   "source": [
    "import heapq\n",
    "class Solution(object):\n",
    "    def amazon(self, tot, locations,num):\n",
    "        heap = []\n",
    "        for x,y in locations:\n",
    "            dis = x*x+y*y\n",
    "            heapq.heappush(heap,(-dis,(x,y)))\n",
    "            if len(heap)>num:\n",
    "                heapq.heappop(heap)\n",
    "        ans = []\n",
    "        for item in heap:\n",
    "            ans.append((item[1][0],item[1][1]))\n",
    "        return ans\n",
    "a = Solution()\n",
    "print (a.amazon(3,[[1,2],[3,4],[1,-1]],2))"
   ]
  },
  {
   "cell_type": "code",
   "execution_count": null,
   "metadata": {},
   "outputs": [],
   "source": []
  }
 ],
 "metadata": {
  "kernelspec": {
   "display_name": "Python 3",
   "language": "python",
   "name": "python3"
  },
  "language_info": {
   "codemirror_mode": {
    "name": "ipython",
    "version": 3
   },
   "file_extension": ".py",
   "mimetype": "text/x-python",
   "name": "python",
   "nbconvert_exporter": "python",
   "pygments_lexer": "ipython3",
   "version": "3.7.4"
  }
 },
 "nbformat": 4,
 "nbformat_minor": 4
}
