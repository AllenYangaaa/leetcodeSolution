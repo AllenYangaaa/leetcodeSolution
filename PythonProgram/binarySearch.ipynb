{
 "cells": [
  {
   "cell_type": "code",
   "execution_count": 5,
   "metadata": {},
   "outputs": [
    {
     "name": "stdout",
     "output_type": "stream",
     "text": [
      "i =  1  ,par=  1\n",
      "i =  2  ,par=  2\n",
      "i =  3  ,par=  1\n",
      "i =  4  ,par=  4\n",
      "i =  5  ,par=  1\n",
      "i =  6  ,par=  2\n",
      "i =  7  ,par=  1\n",
      "i =  8  ,par=  8\n",
      "i =  9  ,par=  1\n",
      "7\n",
      "i =  1  ,par=  1\n",
      "i =  2  ,par=  2\n",
      "i =  3  ,par=  1\n",
      "i =  4  ,par=  4\n",
      "i =  5  ,par=  1\n",
      "i =  6  ,par=  2\n",
      "i =  7  ,par=  1\n",
      "i =  8  ,par=  8\n",
      "i =  9  ,par=  1\n",
      "4\n"
     ]
    }
   ],
   "source": [
    "# 给你一个有序的数组arr，target, 插入数组， 求target的插入的下标。即返回第一个大于target的index\n",
    "class Solution(object):\n",
    "    def binarySearch(self,  arr, target):\n",
    "        for i in range(1,10):\n",
    "            print ('i = ',i,' ,par= ',i&(-i))\n",
    "        if target>=arr[-1]:\n",
    "            return len(arr)\n",
    "        l, r = 0, len(arr)-1\n",
    "        while l<r:\n",
    "            mid = (l+r)//2 # mid = l+ (r-l)//2\n",
    "            #左中位数，右中位数\n",
    "            #先写简单的逻辑\n",
    "            if arr[mid]<=target:\n",
    "                l = mid +1\n",
    "            else:\n",
    "                r = mid\n",
    "        #返回的就是target插入的下标\n",
    "        return l\n",
    "a = Solution()\n",
    "print (a.binarySearch([1,2,3,4,5,6,7], 7)) # 7\n",
    "print (a.binarySearch([1,11,111,1111], 1111)) # 1"
   ]
  },
  {
   "cell_type": "code",
   "execution_count": null,
   "metadata": {},
   "outputs": [],
   "source": []
  }
 ],
 "metadata": {
  "kernelspec": {
   "display_name": "Python 3 (ipykernel)",
   "language": "python",
   "name": "python3"
  },
  "language_info": {
   "codemirror_mode": {
    "name": "ipython",
    "version": 3
   },
   "file_extension": ".py",
   "mimetype": "text/x-python",
   "name": "python",
   "nbconvert_exporter": "python",
   "pygments_lexer": "ipython3",
   "version": "3.11.3"
  }
 },
 "nbformat": 4,
 "nbformat_minor": 4
}
