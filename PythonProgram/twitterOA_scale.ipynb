{
 "cells": [
  {
   "cell_type": "code",
   "execution_count": 2,
   "metadata": {},
   "outputs": [
    {
     "name": "stdout",
     "output_type": "stream",
     "text": [
      "0-th second, utility is 5, instance number before action is 1\n",
      "1-th second, utility is 10, instance number before action is 1\n",
      "2-th second, utility is 80, instance number before action is 1\n",
      "2\n",
      "0-th second, utility is 25, instance number before action is 2\n",
      "1-th second, utility is 23, instance number before action is 2\n",
      "2-th second, utility is 1, instance number before action is 1\n",
      "3-th second, utility is 2, instance number before action is 1\n",
      "4-th second, utility is 3, instance number before action is 1\n",
      "5-th second, utility is 4, instance number before action is 1\n",
      "6-th second, utility is 5, instance number before action is 1\n",
      "7-th second, utility is 6, instance number before action is 1\n",
      "8-th second, utility is 7, instance number before action is 1\n",
      "9-th second, utility is 8, instance number before action is 1\n",
      "10-th second, utility is 9, instance number before action is 1\n",
      "11-th second, utility is 10, instance number before action is 1\n",
      "12-th second, utility is 76, instance number before action is 1\n",
      "13-th second, utility is 80, instance number before action is 2\n",
      "4\n"
     ]
    }
   ],
   "source": [
    "# https://leetcode.com/discuss/interview-question/376019/twitter-oa-2019-autoscale-policy\n",
    "def autoScale(ins, A):\n",
    "    lim_l, lim_h, th_l, th_h= 1, int(1e8), 25, 60\n",
    "    i, n, ans = 0, len(A), ins\n",
    "    while i < n:\n",
    "        print(f'{i}-th second, utility is {A[i]}, instance number before action is {ans}')\n",
    "        if A[i] < th_l and ans > lim_l:\n",
    "            ans = (ans + 1) // 2\n",
    "        elif A[i] > th_h and ans <= lim_h:\n",
    "            ans = ans * 2\n",
    "        i += 1\n",
    "    return ans\n",
    "                \n",
    "ins, A = 1, [5, 10, 80]\n",
    "print(autoScale(ins, A))\n",
    "\n",
    "ins, A = 2, [25,23,1,2,3,4,5,6,7,8,9,10,76,80]\n",
    "print(autoScale(ins, A))\n"
   ]
  },
  {
   "cell_type": "code",
   "execution_count": null,
   "metadata": {},
   "outputs": [],
   "source": []
  }
 ],
 "metadata": {
  "kernelspec": {
   "display_name": "Python 3",
   "language": "python",
   "name": "python3"
  },
  "language_info": {
   "codemirror_mode": {
    "name": "ipython",
    "version": 3
   },
   "file_extension": ".py",
   "mimetype": "text/x-python",
   "name": "python",
   "nbconvert_exporter": "python",
   "pygments_lexer": "ipython3",
   "version": "3.7.4"
  }
 },
 "nbformat": 4,
 "nbformat_minor": 4
}
