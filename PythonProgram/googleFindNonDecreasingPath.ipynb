{
 "cells": [
  {
   "cell_type": "code",
   "execution_count": 8,
   "metadata": {},
   "outputs": [
    {
     "name": "stdout",
     "output_type": "stream",
     "text": [
      "4\n"
     ]
    }
   ],
   "source": [
    "'''\n",
    "给你一个grid，要求find path from upper left corner to lower right corner, \n",
    "然后这个path里的value是一直non-decreaing的\n",
    "'''\n",
    "import collections\n",
    "class Solution():\n",
    "    def findNonDecreasingPath(self, mtx):\n",
    "        if not mtx or not mtx[0]: return -1\n",
    "        q = collections.deque()\n",
    "        m,n = len(mtx), len(mtx[0])\n",
    "        q.append((0,0,0))\n",
    "        visited = set((0,0))\n",
    "        while q:\n",
    "            x,y,step = q.popleft()\n",
    "            if (x,y) == (m-1,n-1):\n",
    "                return step\n",
    "            for nx,ny in [(1,0),(-1,0),(0,1),(0,-1)]:\n",
    "                if 0<=x+nx<m and 0<=y+ny<n and mtx[x][y]<= mtx[x+nx][y+ny]and (x+nx,y+ny) not in visited: \n",
    "                    visited.add((x+nx,y+ny))\n",
    "                    q.append((x+nx,y+ny,step+1))\n",
    "        return -1\n",
    "                    \n",
    "a = Solution()\n",
    "print (a.findNonDecreasingPath([\n",
    "    [1,2,3],\n",
    "    [6,5,4],\n",
    "    [7,8,9]]))"
   ]
  },
  {
   "cell_type": "code",
   "execution_count": null,
   "metadata": {},
   "outputs": [],
   "source": []
  }
 ],
 "metadata": {
  "kernelspec": {
   "display_name": "Python 3",
   "language": "python",
   "name": "python3"
  },
  "language_info": {
   "codemirror_mode": {
    "name": "ipython",
    "version": 3
   },
   "file_extension": ".py",
   "mimetype": "text/x-python",
   "name": "python",
   "nbconvert_exporter": "python",
   "pygments_lexer": "ipython3",
   "version": "3.7.4"
  }
 },
 "nbformat": 4,
 "nbformat_minor": 4
}
