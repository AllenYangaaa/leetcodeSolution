{
 "cells": [
  {
   "cell_type": "code",
   "execution_count": 2,
   "metadata": {},
   "outputs": [
    {
     "name": "stdout",
     "output_type": "stream",
     "text": [
      "[['Curtis', '745', 'enter'], ['Jennifer', '800', 'enter'], ['Curtis', '810', 'exit'], ['John', '815', 'enter'], ['Paul', '830', 'enter'], ['Jennifer', '900', 'exit'], ['Paul', '903', 'exit'], ['John', '908', 'exit'], ['Curtis', '1100', 'enter'], ['Paul', '1214', 'enter'], ['Jennifer', '1217', 'enter'], ['John', '1230', 'enter'], ['Paul', '1235', 'exit'], ['John', '1235', 'exit'], ['Jennifer', '1240', 'exit'], ['Curtis', '1330', 'exit']]\n"
     ]
    }
   ],
   "source": [
    "badge_records = [\n",
    "  [\"Paul\",     \"1214\", \"enter\"],\n",
    "  [\"Paul\",      \"830\", \"enter\"],\n",
    "  [\"Curtis\",   \"1100\", \"enter\"],\n",
    "  [\"Paul\",      \"903\", \"exit\"],\n",
    "  [\"John\",      \"908\", \"exit\"],\n",
    "  [\"Paul\",     \"1235\", \"exit\"],\n",
    "  [\"Jennifer\",  \"900\", \"exit\"],\n",
    "  [\"Curtis\",   \"1330\", \"exit\"],\n",
    "  [\"John\",      \"815\", \"enter\"],\n",
    "  [\"Jennifer\", \"1217\", \"enter\"],\n",
    "  [\"Curtis\",    \"745\", \"enter\"],\n",
    "  [\"John\",     \"1230\", \"enter\"],\n",
    "  [\"Jennifer\",  \"800\", \"enter\"],\n",
    "  [\"John\",     \"1235\", \"exit\"],\n",
    "  [\"Curtis\",    \"810\", \"exit\"],\n",
    "  [\"Jennifer\", \"1240\", \"exit\"],\n",
    "]\n",
    "print (sorted(badge_records, key = lambda x:int(x[1])))"
   ]
  },
  {
   "cell_type": "code",
   "execution_count": null,
   "metadata": {},
   "outputs": [],
   "source": []
  }
 ],
 "metadata": {
  "kernelspec": {
   "display_name": "Python 3",
   "language": "python",
   "name": "python3"
  },
  "language_info": {
   "codemirror_mode": {
    "name": "ipython",
    "version": 3
   },
   "file_extension": ".py",
   "mimetype": "text/x-python",
   "name": "python",
   "nbconvert_exporter": "python",
   "pygments_lexer": "ipython3",
   "version": "3.7.4"
  }
 },
 "nbformat": 4,
 "nbformat_minor": 4
}
