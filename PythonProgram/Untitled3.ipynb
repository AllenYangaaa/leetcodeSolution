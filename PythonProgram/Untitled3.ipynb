{
 "cells": [
  {
   "cell_type": "code",
   "execution_count": 34,
   "metadata": {},
   "outputs": [
    {
     "name": "stdout",
     "output_type": "stream",
     "text": [
      "[[2, 1]]\n",
      "[[2, 4], [3, 2]]\n"
     ]
    }
   ],
   "source": [
    "class Solution(object):\n",
    "    def amazon2(self, target,a,b):\n",
    "        diff = float('-inf')\n",
    "        res = []\n",
    "        for A in a:\n",
    "            for B in b:\n",
    "                if A[1]+B[1] > target:\n",
    "                    continue\n",
    "                if A[1]+B[1] > diff:\n",
    "                    diff = A[1]+B[1]\n",
    "                    res = []\n",
    "                    res.append([A[0],B[0]])\n",
    "                elif A[1]+B[1]==diff:\n",
    "                    res.append([A[0],B[0]])\n",
    "        return res\n",
    "a = Solution()\n",
    "print (a.amazon2(7000,[[1,2000],[2,4000],[3,6000]],[[1,2000]]))\n",
    "print (a.amazon2(10000,[[1,3000],[2,5000],[3,7000],[4,10000]],[[1,2000],[2,3000],[3,4000],[4,5000]]))"
   ]
  },
  {
   "cell_type": "code",
   "execution_count": null,
   "metadata": {},
   "outputs": [],
   "source": []
  },
  {
   "cell_type": "code",
   "execution_count": null,
   "metadata": {},
   "outputs": [],
   "source": []
  }
 ],
 "metadata": {
  "kernelspec": {
   "display_name": "Python 3",
   "language": "python",
   "name": "python3"
  },
  "language_info": {
   "codemirror_mode": {
    "name": "ipython",
    "version": 3
   },
   "file_extension": ".py",
   "mimetype": "text/x-python",
   "name": "python",
   "nbconvert_exporter": "python",
   "pygments_lexer": "ipython3",
   "version": "3.7.4"
  }
 },
 "nbformat": 4,
 "nbformat_minor": 4
}
