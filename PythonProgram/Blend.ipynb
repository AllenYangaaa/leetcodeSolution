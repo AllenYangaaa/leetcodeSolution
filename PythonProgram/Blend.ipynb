{
 "cells": [
  {
   "cell_type": "code",
   "execution_count": 49,
   "metadata": {},
   "outputs": [
    {
     "name": "stdout",
     "output_type": "stream",
     "text": [
      "a\n",
      "aba\n",
      "bc\n"
     ]
    }
   ],
   "source": [
    "class Solution(object):\n",
    "    def compressWord(self, word, k):\n",
    "#         cur = word\n",
    "#         cur2 = ''\n",
    "#          while 1:\n",
    "#             for i in range(len(cur)-k+1):\n",
    "#                 if cur[i:i+k] == cur[i]*k: \n",
    "#                     cur2 = cur[:i]+cur[i+k:]\n",
    "#                     break\n",
    "#             else:\n",
    "#                 break\n",
    "#             cur = cur2\n",
    "#         return cur               \n",
    "        stack = []\n",
    "        newWord = []\n",
    "        for i in range(len(word)):\n",
    "            if newWord and word[i]==newWord[-1][0]:\n",
    "                newWord += (word[i],newWord[-1][1]+1),\n",
    "            else:\n",
    "                newWord+= (word[i],1),\n",
    "            if newWord[-1][1]==k:\n",
    "                j = 0\n",
    "                while j<k:\n",
    "                    newWord.pop()\n",
    "                    j+=1\n",
    "#         print (newWord)\n",
    "        return ''.join([ newWord[i][0] for i in range(len(newWord))])\n",
    "\n",
    "            \n",
    "            \n",
    "            \n",
    "       \n",
    "a = Solution()\n",
    "print (a.compressWord('abbcccb',3))\n",
    "print (a.compressWord('aba',2))\n",
    "print (a.compressWord('baac',2))"
   ]
  },
  {
   "cell_type": "code",
   "execution_count": null,
   "metadata": {},
   "outputs": [],
   "source": []
  },
  {
   "cell_type": "code",
   "execution_count": null,
   "metadata": {},
   "outputs": [],
   "source": []
  }
 ],
 "metadata": {
  "kernelspec": {
   "display_name": "Python 3",
   "language": "python",
   "name": "python3"
  },
  "language_info": {
   "codemirror_mode": {
    "name": "ipython",
    "version": 3
   },
   "file_extension": ".py",
   "mimetype": "text/x-python",
   "name": "python",
   "nbconvert_exporter": "python",
   "pygments_lexer": "ipython3",
   "version": "3.7.4"
  }
 },
 "nbformat": 4,
 "nbformat_minor": 4
}
