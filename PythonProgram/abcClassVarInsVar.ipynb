{
 "cells": [
  {
   "cell_type": "code",
   "execution_count": 83,
   "metadata": {},
   "outputs": [
    {
     "name": "stdout",
     "output_type": "stream",
     "text": [
      "I have 30 sides\n",
      "3\n",
      "4\n",
      "3\n",
      "4\n",
      "3\n",
      "c 4\n",
      "this._sides = 100,4\n",
      "this._sides = 100,5\n",
      "c 100\n",
      "I have 30 sides\n",
      "20\n",
      "5\n",
      "444444444\n"
     ]
    }
   ],
   "source": [
    "from abc import ABC, abstractmethod\n",
    "\n",
    "class Polygon(ABC):\n",
    "    pass\n",
    "    def noofsides(self):\n",
    "        print ('This is in Poly')\n",
    "        pass\n",
    "\n",
    "class Shape():\n",
    "    def __init__(self):\n",
    "        self.area = 5\n",
    "    def noofsides(self):\n",
    "        print ('To be determined...')\n",
    "    \n",
    "class Triangle(Shape, Polygon):\n",
    "    def __init__(self):\n",
    "        Shape.__init__(self)\n",
    "        self.area = 20\n",
    "        Polygon.__init__(self)\n",
    "        self.__sides = 30 #实例变量\n",
    "    _sides = 3 # 类变量(static var)\n",
    "\n",
    "    def haha(self):\n",
    "        print('haha')\n",
    "    def noofsides(self):\n",
    "        print('I have {0} sides'.format(self.__sides))\n",
    "        return 1\n",
    "    def classVarAddOne(self):\n",
    "        self._sides = 100\n",
    "        print('this._sides = {0},{1}'.format(self._sides, Triangle._sides))\n",
    "        Triangle._sides+=1\n",
    "        print('this._sides = {0},{1}'.format(self._sides, Triangle._sides))\n",
    "\n",
    "class Rectangle(Shape):\n",
    "    def __init__(self):\n",
    "        Shape.__init__(self)\n",
    "        Polygon.__init__(self)\n",
    "        self.__sides = 4 #实例变量\n",
    "    def noofsides(self):\n",
    "        print ('444444444')\n",
    "    \n",
    "a = Triangle()\n",
    "a.noofsides()\n",
    "print(a._sides)\n",
    "a._sides = 4\n",
    "print(a._sides)\n",
    "b = Triangle()\n",
    "print (b._sides)\n",
    "print(a._sides)\n",
    "print (Triangle._sides)\n",
    "Triangle._sides = 4\n",
    "c = Triangle()\n",
    "print ('c',c._sides)\n",
    "c.classVarAddOne()\n",
    "print ('c',c._sides)\n",
    "c.noofsides()\n",
    "print(c.area)\n",
    "d = Shape()\n",
    "d = Triangle()\n",
    "print (Shape().area)\n",
    "e = Rectangle()\n",
    "e.noofsides()\n",
    "\n",
    "\n"
   ]
  },
  {
   "cell_type": "code",
   "execution_count": null,
   "metadata": {},
   "outputs": [],
   "source": []
  },
  {
   "cell_type": "code",
   "execution_count": null,
   "metadata": {},
   "outputs": [],
   "source": []
  }
 ],
 "metadata": {
  "kernelspec": {
   "display_name": "Python 3",
   "language": "python",
   "name": "python3"
  },
  "language_info": {
   "codemirror_mode": {
    "name": "ipython",
    "version": 3
   },
   "file_extension": ".py",
   "mimetype": "text/x-python",
   "name": "python",
   "nbconvert_exporter": "python",
   "pygments_lexer": "ipython3",
   "version": "3.7.4"
  }
 },
 "nbformat": 4,
 "nbformat_minor": 4
}
