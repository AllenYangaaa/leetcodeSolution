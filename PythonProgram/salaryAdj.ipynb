{
 "cells": [
  {
   "cell_type": "code",
   "execution_count": null,
   "metadata": {},
   "outputs": [],
   "source": [
    "#todo\n",
    "class Solution(object):\n",
    "    def salaryAdj(self, salaries, budget):\n",
    "        prefix = [0]\n",
    "        for i in range(len(salaries)):\n",
    "            prefix.append(prefix[-1]+salaries[i])\n",
    "        def calculateK(idx):\n",
    "            k = (budget-prefix[idx])/(len(salaries)-idx)\n",
    "            \n",
    "        salaries.sort()\n",
    "        l,r = 0,len(salaries)-1:\n",
    "        while l<r:\n",
    "            mid = (l+r)//2\n",
    "            if calculateK(mid):\n",
    "                r = mid\n",
    "            else:\n",
    "                l = mid+1\n",
    "        prefix\n",
    "                \n",
    "        \n",
    "        \n",
    "a.Solution()\n",
    "print (a.salaryAdj([100, 300, 200, 400], 800))"
   ]
  }
 ],
 "metadata": {
  "kernelspec": {
   "display_name": "Python 3",
   "language": "python",
   "name": "python3"
  },
  "language_info": {
   "codemirror_mode": {
    "name": "ipython",
    "version": 3
   },
   "file_extension": ".py",
   "mimetype": "text/x-python",
   "name": "python",
   "nbconvert_exporter": "python",
   "pygments_lexer": "ipython3",
   "version": "3.7.4"
  }
 },
 "nbformat": 4,
 "nbformat_minor": 4
}
