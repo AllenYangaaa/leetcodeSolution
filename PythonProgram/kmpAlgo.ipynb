{
 "cells": [
  {
   "cell_type": "code",
   "execution_count": 17,
   "metadata": {},
   "outputs": [
    {
     "name": "stdout",
     "output_type": "stream",
     "text": [
      "2\n"
     ]
    }
   ],
   "source": [
    "class Solution(object):\n",
    "    def createNextTable(self, s2):\n",
    "        nxt = [0]*len(s2)\n",
    "        i,j = 1,0\n",
    "        while i<len(s2):\n",
    "            while j and s2[j]!=s2[i]:\n",
    "                j = nxt[j-1]\n",
    "            if s2[i]==s2[j]:\n",
    "                j+=1\n",
    "            nxt[i]=j\n",
    "            i+=1\n",
    "        return nxt\n",
    "    def kmp(self, s1,s2):\n",
    "        nxt = self.createNextTable(s2)\n",
    "        i,j = 0,0\n",
    "        while i<len(s1):\n",
    "            while j and s1[i]!=s2[j]:\n",
    "                j = nxt[j-1]\n",
    "            if s1[i]==s2[j]:\n",
    "                j+=1\n",
    "            if j==len(s2):\n",
    "                return i+1-j\n",
    "            i+=1\n",
    "        return -1\n",
    "\n",
    "a = Solution()\n",
    "print (a.kmp('abcdefg','cde'))"
   ]
  },
  {
   "cell_type": "code",
   "execution_count": null,
   "metadata": {},
   "outputs": [],
   "source": []
  }
 ],
 "metadata": {
  "kernelspec": {
   "display_name": "Python 3",
   "language": "python",
   "name": "python3"
  },
  "language_info": {
   "codemirror_mode": {
    "name": "ipython",
    "version": 3
   },
   "file_extension": ".py",
   "mimetype": "text/x-python",
   "name": "python",
   "nbconvert_exporter": "python",
   "pygments_lexer": "ipython3",
   "version": "3.7.4"
  }
 },
 "nbformat": 4,
 "nbformat_minor": 4
}
