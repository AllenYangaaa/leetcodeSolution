{
 "cells": [
  {
   "cell_type": "code",
   "execution_count": 6,
   "metadata": {},
   "outputs": [
    {
     "name": "stdout",
     "output_type": "stream",
     "text": [
      "1\n",
      "8\n",
      "23\n",
      "28\n"
     ]
    }
   ],
   "source": [
    "#init status to end status, find the minimum step\n",
    "import collections\n",
    "#created by NameLess\n",
    "class Solution(object):\n",
    "    def getMinimumStep(self,  initStatus):\n",
    "        finalStatus = (1,2,3,4,5,6,7,8,None)\n",
    "        memo = set([(1,2,3,4,5,6,7,8,None)])\n",
    "        queue = collections.deque()\n",
    "        queue.append(((1,2,3,4,5,6,7,8,None),2,2,0))\n",
    "        def swap(status,newX, newY, x, y): #在status中交换（newX,newY）和（x,y）得到并返回nxtStatus\n",
    "            statusList = list(status)\n",
    "            statusList[3*x+y], statusList[3*newX+newY] = statusList[3*newX+newY], statusList[3*x+y]\n",
    "            return tuple(statusList)\n",
    "                   \n",
    "        while queue:\n",
    "            cur= queue.popleft()\n",
    "            curStatus,x,y,step = cur[0], cur[1],cur[2],cur[3]\n",
    "            if curStatus==initStatus:\n",
    "                return step\n",
    "            for nx,ny in [(1,0),(-1,0),(0,1),(0,-1)]:\n",
    "                if 0<=nx+x<3 and 0<=ny+y<3:\n",
    "                    nxtStatus = swap(curStatus,nx+x,ny+y,x,y)\n",
    "                    if nxtStatus not in memo:\n",
    "                        memo.add(nxtStatus)\n",
    "                        queue.append(((nxtStatus),nx+x,ny+y,step+1))\n",
    "        return -1\n",
    "            \n",
    "        \n",
    "a = Solution()\n",
    "print (a.getMinimumStep((1,2,3,4,5,6,7,None,8))) #1\n",
    "print (a.getMinimumStep((2,3,6,1,None,5,4,7,8))) #8\n",
    "print (a.getMinimumStep((3,2,1,6,5,4,7,None,8))) #23\n",
    "print (a.getMinimumStep((None,8,7,6,5,4,3,2,1))) #28\n"
   ]
  },
  {
   "cell_type": "code",
   "execution_count": null,
   "metadata": {},
   "outputs": [],
   "source": []
  },
  {
   "cell_type": "code",
   "execution_count": null,
   "metadata": {},
   "outputs": [],
   "source": []
  }
 ],
 "metadata": {
  "kernelspec": {
   "display_name": "Python 3",
   "language": "python",
   "name": "python3"
  },
  "language_info": {
   "codemirror_mode": {
    "name": "ipython",
    "version": 3
   },
   "file_extension": ".py",
   "mimetype": "text/x-python",
   "name": "python",
   "nbconvert_exporter": "python",
   "pygments_lexer": "ipython3",
   "version": "3.7.4"
  }
 },
 "nbformat": 4,
 "nbformat_minor": 4
}
