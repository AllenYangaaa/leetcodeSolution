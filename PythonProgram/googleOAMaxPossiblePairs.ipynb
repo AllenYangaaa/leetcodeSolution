{
 "cells": [
  {
   "cell_type": "code",
   "execution_count": 14,
   "metadata": {},
   "outputs": [
    {
     "name": "stdout",
     "output_type": "stream",
     "text": [
      "1\n",
      "2\n"
     ]
    }
   ],
   "source": [
    "import collections\n",
    "class Solution():\n",
    "    def maxPossiblePairs(self, arr):\n",
    "        if len(arr)<4: return 1\n",
    "        \n",
    "        '''\n",
    "        return: sum==i 时newArr中能匹配的pair数\n",
    "        '''\n",
    "        def getPairs(newArr, i):\n",
    "            pairs = 0\n",
    "            counter = collections.Counter(newArr)\n",
    "            for x in counter:\n",
    "                if counter[x] and counter[i-x]:\n",
    "                    p = min(counter[i-x], counter[x])\n",
    "                    if x == i-x: p //=2\n",
    "                    pairs += p\n",
    "                    counter[i-x] -= p\n",
    "                    counter[x] -= p\n",
    "            return pairs\n",
    "                \n",
    "        arr.sort()\n",
    "        mn,mx = arr[0]+arr[1], arr[-2]+arr[-1]\n",
    "        pairs = 1\n",
    "        for i in range(mn, mx+1):\n",
    "            pairs = max(pairs, getPairs(arr, i))\n",
    "        return pairs\n",
    "        \n",
    "        \n",
    "a = Solution()\n",
    "print (a.maxPossiblePairs([2,2,2,3]))    #1\n",
    "print (a.maxPossiblePairs([1,9,8,100,2]))   #2"
   ]
  },
  {
   "cell_type": "code",
   "execution_count": null,
   "metadata": {},
   "outputs": [],
   "source": []
  }
 ],
 "metadata": {
  "kernelspec": {
   "display_name": "Python 3",
   "language": "python",
   "name": "python3"
  },
  "language_info": {
   "codemirror_mode": {
    "name": "ipython",
    "version": 3
   },
   "file_extension": ".py",
   "mimetype": "text/x-python",
   "name": "python",
   "nbconvert_exporter": "python",
   "pygments_lexer": "ipython3",
   "version": "3.7.4"
  }
 },
 "nbformat": 4,
 "nbformat_minor": 4
}
