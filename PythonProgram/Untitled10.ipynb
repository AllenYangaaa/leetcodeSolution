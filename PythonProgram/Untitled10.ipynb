{
 "cells": [
  {
   "cell_type": "code",
   "execution_count": 16,
   "metadata": {},
   "outputs": [
    {
     "name": "stdout",
     "output_type": "stream",
     "text": [
      "the sofa is too big\n"
     ]
    },
    {
     "ename": "UnboundLocalError",
     "evalue": "local variable 'sentence2' referenced before assignment",
     "output_type": "error",
     "traceback": [
      "\u001b[0;31m---------------------------------------------------------------------------\u001b[0m",
      "\u001b[0;31mUnboundLocalError\u001b[0m                         Traceback (most recent call last)",
      "\u001b[0;32m<ipython-input-16-18c50abdb44d>\u001b[0m in \u001b[0;36m<module>\u001b[0;34m\u001b[0m\n\u001b[1;32m     33\u001b[0m     \u001b[0;32mreturn\u001b[0m \u001b[0mres\u001b[0m\u001b[0;34m\u001b[0m\u001b[0;34m\u001b[0m\u001b[0m\n\u001b[1;32m     34\u001b[0m \u001b[0;34m\u001b[0m\u001b[0m\n\u001b[0;32m---> 35\u001b[0;31m \u001b[0mprint\u001b[0m \u001b[0;34m(\u001b[0m\u001b[0mGenerateBigrams\u001b[0m\u001b[0;34m(\u001b[0m\u001b[0;34m'the sofa is too big'\u001b[0m\u001b[0;34m,\u001b[0m\u001b[0;34m[\u001b[0m\u001b[0;34m'big,large'\u001b[0m\u001b[0;34m]\u001b[0m\u001b[0;34m)\u001b[0m\u001b[0;34m)\u001b[0m\u001b[0;34m\u001b[0m\u001b[0;34m\u001b[0m\u001b[0m\n\u001b[0m\u001b[1;32m     36\u001b[0m \u001b[0mprint\u001b[0m \u001b[0;34m(\u001b[0m\u001b[0mGenerateBigrams\u001b[0m\u001b[0;34m(\u001b[0m\u001b[0;34m'I am big you are large'\u001b[0m\u001b[0;34m,\u001b[0m\u001b[0;34m[\u001b[0m\u001b[0;34m'big,large'\u001b[0m\u001b[0;34m]\u001b[0m\u001b[0;34m)\u001b[0m\u001b[0;34m)\u001b[0m\u001b[0;34m\u001b[0m\u001b[0;34m\u001b[0m\u001b[0m\n",
      "\u001b[0;32m<ipython-input-16-18c50abdb44d>\u001b[0m in \u001b[0;36mGenerateBigrams\u001b[0;34m(sentence, synonyms)\u001b[0m\n\u001b[1;32m     21\u001b[0m     \u001b[0;32mif\u001b[0m \u001b[0msentence1\u001b[0m\u001b[0;34m:\u001b[0m\u001b[0;34m\u001b[0m\u001b[0;34m\u001b[0m\u001b[0m\n\u001b[1;32m     22\u001b[0m         \u001b[0ms1\u001b[0m \u001b[0;34m=\u001b[0m \u001b[0msentence1\u001b[0m\u001b[0;34m.\u001b[0m\u001b[0msplit\u001b[0m\u001b[0;34m(\u001b[0m\u001b[0;34m\" \"\u001b[0m\u001b[0;34m)\u001b[0m\u001b[0;34m\u001b[0m\u001b[0;34m\u001b[0m\u001b[0m\n\u001b[0;32m---> 23\u001b[0;31m     \u001b[0;32mif\u001b[0m \u001b[0msentence2\u001b[0m\u001b[0;34m:\u001b[0m\u001b[0;34m\u001b[0m\u001b[0;34m\u001b[0m\u001b[0m\n\u001b[0m\u001b[1;32m     24\u001b[0m         \u001b[0ms2\u001b[0m \u001b[0;34m=\u001b[0m \u001b[0msentence2\u001b[0m\u001b[0;34m.\u001b[0m\u001b[0msplit\u001b[0m\u001b[0;34m(\u001b[0m\u001b[0;34m\" \"\u001b[0m\u001b[0;34m)\u001b[0m\u001b[0;34m\u001b[0m\u001b[0;34m\u001b[0m\u001b[0m\n\u001b[1;32m     25\u001b[0m \u001b[0;34m\u001b[0m\u001b[0m\n",
      "\u001b[0;31mUnboundLocalError\u001b[0m: local variable 'sentence2' referenced before assignment"
     ]
    }
   ],
   "source": [
    "def GenerateBigrams(sentence, synonyms):\n",
    "    # Write your code here\n",
    "    dic = {}\n",
    "    res = []\n",
    "    sentence = sentence.split(\" \")\n",
    "    # for item in synonyms:\n",
    "    #     item = item.split(\",\")\n",
    "    #     a,b = item[0],item[1]\n",
    "    #     dic[a] = b\n",
    "    #     dic[b] = a \n",
    "    for i in range(len(sentence)-1):\n",
    "        res.append(\" \".join(sentence[i:i+2]))\n",
    "    sentence = \" \".join(sentence)\n",
    "    print (sentence)\n",
    "    for item in synonyms:\n",
    "        item = item.split(\",\")\n",
    "        if item[0] in sentence:\n",
    "            sentence1 = sentence.replace(item[0],item[1])\n",
    "        if item[1] in sentence:\n",
    "            sentence2 = sentence.replace(item[1],item[0])\n",
    "    if sentence1:\n",
    "        s1 = sentence1.split(\" \")\n",
    "    if sentence2:\n",
    "        s2 = sentence2.split(\" \")\n",
    "\n",
    "    for i in range(len(sentence)-1):\n",
    "        if s1:\n",
    "            res.append(\" \".join(s1[i:i+2]))\n",
    "        if s2:\n",
    "            res.append(\" \".join(s2[i:i+2]))\n",
    "\n",
    "    res = sorted(set(res))\n",
    "    return res\n",
    "    \n",
    "print (GenerateBigrams('the sofa is too big',['big,large']))\n",
    "print (GenerateBigrams('I am big you are large',['big,large']))"
   ]
  },
  {
   "cell_type": "code",
   "execution_count": null,
   "metadata": {},
   "outputs": [],
   "source": []
  },
  {
   "cell_type": "code",
   "execution_count": null,
   "metadata": {},
   "outputs": [],
   "source": []
  }
 ],
 "metadata": {
  "kernelspec": {
   "display_name": "Python 3",
   "language": "python",
   "name": "python3"
  },
  "language_info": {
   "codemirror_mode": {
    "name": "ipython",
    "version": 3
   },
   "file_extension": ".py",
   "mimetype": "text/x-python",
   "name": "python",
   "nbconvert_exporter": "python",
   "pygments_lexer": "ipython3",
   "version": "3.7.4"
  }
 },
 "nbformat": 4,
 "nbformat_minor": 4
}
