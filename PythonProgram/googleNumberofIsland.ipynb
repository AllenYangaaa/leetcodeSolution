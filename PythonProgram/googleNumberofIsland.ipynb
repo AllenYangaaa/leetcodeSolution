{
 "cells": [
  {
   "cell_type": "code",
   "execution_count": 5,
   "metadata": {},
   "outputs": [
    {
     "name": "stdout",
     "output_type": "stream",
     "text": [
      "2 1 2\n",
      "2\n",
      "9 1 1\n",
      "9\n"
     ]
    }
   ],
   "source": [
    "'''\n",
    "Google 面经\n",
    "让求最大的陆地面积，1表示陆地0表示水域。\n",
    "如果一圈陆地包围一片水域那么这块水域也算这个岛的面积。\n",
    "'''\n",
    "# 1 pass solution\n",
    "class Solution():\n",
    "    def maxAreaWithLockedWater(self, mtx, w, h):\n",
    "        visited = set()\n",
    "        def dfs(i,j):\n",
    "            if mtx[i][j]==0 and (i==0 or i==w-1 or j==0 or j==h-1):\n",
    "                return -1\n",
    "            area = 1\n",
    "            for nx, ny in [[1,0],[-1,0],[0,1],[0,-1]]:\n",
    "                if 0<=i+nx<w and 0<=j+ny<h and (i+nx,j+ny) not in visited:\n",
    "                    visited.add((i+nx,j+ny))\n",
    "                    temp = dfs(i+nx, j+ny)\n",
    "                    if temp==-1:\n",
    "                        if mtx[i][j]==0:\n",
    "                            return -1\n",
    "                        else: continue\n",
    "                    area+=temp\n",
    "            return area\n",
    "                        \n",
    "        maxArea = 0  \n",
    "        for x in range(w):\n",
    "            for y in range(h):\n",
    "                if mtx[x][y]==1 and (x,y) not in visited:\n",
    "                    visited.add((x,y))\n",
    "                    maxArea = max(dfs(x,y), maxArea)\n",
    "#                     print(maxArea, x,y)\n",
    "        return maxArea\n",
    "                    \n",
    "        \n",
    "    \n",
    "    \n",
    "    \n",
    "    \n",
    "# test cases    \n",
    "a = Solution()\n",
    "print(a.maxAreaWithLockedWater([[0,0,0,0,0],\n",
    "                                [0,0,1,1,0],\n",
    "                                [0,0,0,0,0],\n",
    "                                [0,1,0,0,0],\n",
    "                                [0,0,0,0,0]], 5, 5)) # 2\n",
    "print(a.maxAreaWithLockedWater([[0,0,0,0,0],\n",
    "                                [0,1,1,1,0],\n",
    "                                [0,1,0,1,0],\n",
    "                                [0,1,1,1,0],\n",
    "                                [0,0,0,0,0]], 5, 5))  # 9\n"
   ]
  },
  {
   "cell_type": "code",
   "execution_count": null,
   "metadata": {},
   "outputs": [],
   "source": []
  }
 ],
 "metadata": {
  "kernelspec": {
   "display_name": "Python 3",
   "language": "python",
   "name": "python3"
  },
  "language_info": {
   "codemirror_mode": {
    "name": "ipython",
    "version": 3
   },
   "file_extension": ".py",
   "mimetype": "text/x-python",
   "name": "python",
   "nbconvert_exporter": "python",
   "pygments_lexer": "ipython3",
   "version": "3.7.4"
  }
 },
 "nbformat": 4,
 "nbformat_minor": 4
}
