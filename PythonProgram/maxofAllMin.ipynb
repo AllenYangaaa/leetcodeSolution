{
 "cells": [
  {
   "cell_type": "code",
   "execution_count": 4,
   "metadata": {},
   "outputs": [
    {
     "name": "stdout",
     "output_type": "stream",
     "text": [
      "3\n"
     ]
    }
   ],
   "source": [
    "import collections\n",
    "class Solution(object):\n",
    "    def A(self,  numComputer, hardDiskSpace, segLength):\n",
    "        queue = collections.deque()\n",
    "        minMax = float('-inf')\n",
    "        for i,val in enumerate(hardDiskSpace):\n",
    "            while queue and queue[-1][1]>=val:\n",
    "                queue.pop()\n",
    "            queue.append((i, val))\n",
    "            if i - queue[0][0]>=segLength:\n",
    "                queue.popleft()\n",
    "            if i<segLength-1:\n",
    "                continue\n",
    "            minMax = max(minMax, queue[0][1])\n",
    "        return minMax\n",
    "        \n",
    "a = Solution()\n",
    "print (a.A(3,[8,2,4,3],2))"
   ]
  },
  {
   "cell_type": "code",
   "execution_count": null,
   "metadata": {},
   "outputs": [],
   "source": []
  }
 ],
 "metadata": {
  "kernelspec": {
   "display_name": "Python 3",
   "language": "python",
   "name": "python3"
  },
  "language_info": {
   "codemirror_mode": {
    "name": "ipython",
    "version": 3
   },
   "file_extension": ".py",
   "mimetype": "text/x-python",
   "name": "python",
   "nbconvert_exporter": "python",
   "pygments_lexer": "ipython3",
   "version": "3.7.4"
  }
 },
 "nbformat": 4,
 "nbformat_minor": 4
}
