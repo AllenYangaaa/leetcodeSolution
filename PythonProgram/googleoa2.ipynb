{
 "cells": [
  {
   "cell_type": "code",
   "execution_count": 6,
   "metadata": {},
   "outputs": [
    {
     "name": "stdout",
     "output_type": "stream",
     "text": [
      "[0, 1, 2, 3, 4, 5, 6, 7]\n",
      "[7, 6, 5, 4, 3, 2, 1, 0]\n",
      "0\n",
      "[0, 1, 1, 2, 3, 4, 4, 5, 6, 6, 6]\n",
      "[6, 6, 6, 6, 5, 4, 4, 3, 2, 1, 0]\n",
      "2\n"
     ]
    }
   ],
   "source": [
    "import collections\n",
    "def distinctChar(string):\n",
    "    ans = 0\n",
    "    pSet,sSet = set(),set()\n",
    "    prefix = [0]\n",
    "    suffix = [0]\n",
    "    N = len(string)\n",
    "    for i in range(N):\n",
    "        pSet.add(string[i])\n",
    "        prefix.append(len(pSet))\n",
    "    for j in range(N-1,-1,-1):\n",
    "        sSet.add(string[j])\n",
    "        suffix.append(len(sSet))\n",
    "    suffix = suffix[::-1]\n",
    "    print (prefix)\n",
    "    print (suffix)\n",
    "    for k in range(N):\n",
    "        if prefix[k]==suffix[k]:\n",
    "            ans+=1\n",
    "    return ans\n",
    "\n",
    "\n",
    "\n",
    "\n",
    "print (distinctChar('abcdefg'))\n",
    "print (distinctChar('aabioahfab'))"
   ]
  },
  {
   "cell_type": "code",
   "execution_count": null,
   "metadata": {},
   "outputs": [],
   "source": []
  }
 ],
 "metadata": {
  "kernelspec": {
   "display_name": "Python 3",
   "language": "python",
   "name": "python3"
  },
  "language_info": {
   "codemirror_mode": {
    "name": "ipython",
    "version": 3
   },
   "file_extension": ".py",
   "mimetype": "text/x-python",
   "name": "python",
   "nbconvert_exporter": "python",
   "pygments_lexer": "ipython3",
   "version": "3.7.4"
  }
 },
 "nbformat": 4,
 "nbformat_minor": 4
}
