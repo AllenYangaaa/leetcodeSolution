{
 "cells": [
  {
   "cell_type": "code",
   "execution_count": 1,
   "metadata": {},
   "outputs": [],
   "source": [
    "string = [1000,567,5,2,5,10,50,100]"
   ]
  },
  {
   "cell_type": "code",
   "execution_count": 2,
   "metadata": {},
   "outputs": [
    {
     "name": "stdout",
     "output_type": "stream",
     "text": [
      "[1000, 567, 5, 2, 5, 10, 50, 100]\n"
     ]
    }
   ],
   "source": [
    "print (string)"
   ]
  },
  {
   "cell_type": "code",
   "execution_count": 3,
   "metadata": {},
   "outputs": [],
   "source": [
    "packets = string[3:]"
   ]
  },
  {
   "cell_type": "code",
   "execution_count": 5,
   "metadata": {},
   "outputs": [
    {
     "name": "stdout",
     "output_type": "stream",
     "text": [
      "[2, 5, 10, 50, 100]\n"
     ]
    }
   ],
   "source": [
    "print (packets)"
   ]
  },
  {
   "cell_type": "code",
   "execution_count": 7,
   "metadata": {},
   "outputs": [],
   "source": [
    "target = string[1]\n",
    "N = string[2]"
   ]
  },
  {
   "cell_type": "code",
   "execution_count": 9,
   "metadata": {},
   "outputs": [
    {
     "name": "stdout",
     "output_type": "stream",
     "text": [
      "9 [100, 100, 100, 100, 100, 50, 10, 5, 2]\n"
     ]
    }
   ],
   "source": [
    "dp = [float('inf')]*(target+1)\n",
    "dp[0] = 0\n",
    "cur = [[]]*(target+1)\n",
    "for i in range(1,target+1):\n",
    "    for p in packets:\n",
    "        if i>=p:\n",
    "            if dp[i]>dp[i-p]+1:\n",
    "                dp[i] = dp[i-p]+1\n",
    "                cur[i] = cur[i-p]+[p]\n",
    "print (dp[-1],cur[-1])"
   ]
  },
  {
   "cell_type": "code",
   "execution_count": null,
   "metadata": {},
   "outputs": [],
   "source": []
  }
 ],
 "metadata": {
  "kernelspec": {
   "display_name": "Python 3",
   "language": "python",
   "name": "python3"
  },
  "language_info": {
   "codemirror_mode": {
    "name": "ipython",
    "version": 3
   },
   "file_extension": ".py",
   "mimetype": "text/x-python",
   "name": "python",
   "nbconvert_exporter": "python",
   "pygments_lexer": "ipython3",
   "version": "3.7.4"
  }
 },
 "nbformat": 4,
 "nbformat_minor": 4
}
