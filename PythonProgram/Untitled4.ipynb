{
 "cells": [
  {
   "cell_type": "code",
   "execution_count": 10,
   "metadata": {},
   "outputs": [
    {
     "name": "stdout",
     "output_type": "stream",
     "text": [
      "[[-80, -66, -59, -33], [99, -37, -36, -18], [61, 90, 82, -15], [26, 15, -2, -10]]\n",
      "[[-6, -6, -5, -2], [12, 2, 2, 0], [9, 20, 6, 1], [7, 7, 5, 4]]\n"
     ]
    }
   ],
   "source": [
    "def sortGrid(matrix):\n",
    "    rowS = 0\n",
    "    rowE = len(matrix)-1\n",
    "    colS = 0\n",
    "    colE = len(matrix[0]) - 1\n",
    "    lst = []\n",
    "    while rowS <= rowE and colS <= colE:\n",
    "        tmp = []\n",
    "        for i in range(colS,colE+1):\n",
    "            tmp.append(matrix[colS][i])\n",
    "        rowS+=1\n",
    "        for i in range(rowS,rowE+1):\n",
    "            tmp.append(matrix[i][colE])\n",
    "        colE-=1\n",
    "        if rowS <= rowE:\n",
    "            for i in range(colE, colS-1,-1):\n",
    "                tmp.append(matrix[rowE][i])\n",
    "            rowE-=1\n",
    "        if colS <= colE:\n",
    "            for i in range(rowE, rowS-1,-1):\n",
    "                tmp.append(matrix[i][colS])\n",
    "        colS+=1\n",
    "        tmp.sort()\n",
    "        lst.append(tmp)\n",
    "    rowS = 0\n",
    "    rowE = len(matrix)-1\n",
    "    colS = 0\n",
    "    colE = len(matrix[0])-1;\n",
    "    cnt = 0;\n",
    "    while rowS <= rowE and colS <= colE:\n",
    "        tmp = lst[cnt]\n",
    "        cnt+=1\n",
    "        pos = 0;\n",
    "        for i in range(colS, colE+1):\n",
    "            matrix[colS][i] = tmp[pos]\n",
    "            pos+=1\n",
    "        rowS+=1\n",
    "        for i in range(rowS,rowE+1):\n",
    "            matrix[i][colE] = tmp[pos]\n",
    "            pos+=1\n",
    "        colE-=1\n",
    "        if rowS<=rowE:\n",
    "            for i in range(colE, colS-1, -1):\n",
    "                matrix[rowE][i] = tmp[pos]\n",
    "                pos+=1\n",
    "            rowE-=1\n",
    "        if colS<=colE:\n",
    "            for i in range(rowE, rowS-1,-1):\n",
    "                matrix[i][colS] = tmp[pos]\n",
    "                pos+=1\n",
    "        colS+=1\n",
    "    return matrix\n",
    "matrix = [[15,-66,-18,99],\n",
    "            [-80,-36,90,-10],\n",
    "            [-59,-37,82,-33],\n",
    "            [-15,26,61,-2]]\n",
    "matrix1 = [[9,7,4,5],[1,6,2,-6],[12,20,2,0],[-5,-6,7,-2]]\n",
    "print (sortGrid(matrix))\n",
    "print (sortGrid(matrix1))\n"
   ]
  },
  {
   "cell_type": "code",
   "execution_count": null,
   "metadata": {},
   "outputs": [],
   "source": []
  }
 ],
 "metadata": {
  "kernelspec": {
   "display_name": "Python 3",
   "language": "python",
   "name": "python3"
  },
  "language_info": {
   "codemirror_mode": {
    "name": "ipython",
    "version": 3
   },
   "file_extension": ".py",
   "mimetype": "text/x-python",
   "name": "python",
   "nbconvert_exporter": "python",
   "pygments_lexer": "ipython3",
   "version": "3.7.4"
  }
 },
 "nbformat": 4,
 "nbformat_minor": 4
}
