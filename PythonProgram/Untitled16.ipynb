{
 "cells": [
  {
   "cell_type": "code",
   "execution_count": 9,
   "metadata": {},
   "outputs": [
    {
     "name": "stdout",
     "output_type": "stream",
     "text": [
      "{1,  1,  6}\n",
      "{1,  2,  5}\n",
      "{1,  7}\n",
      "{2,  6}\n"
     ]
    }
   ],
   "source": [
    "'''\n",
    "Give you an unsorted array, could you return all the combinations which sum equals target,\n",
    "AND this combination has the smallest length.\n",
    "'''\n",
    "# Python 3 implementation of the approach\n",
    "\n",
    "# Function to find all unique combination of\n",
    "# given elements such that their sum is K\n",
    "\n",
    "\n",
    "def unique_combination(l, sum, K, local, A):  #l:left index, sum: current sum\n",
    "\n",
    "\t# If a unique combination is found\n",
    "\tif (sum == K):\n",
    "\t\tprint(\"{\", end=\"\")\n",
    "\t\tfor i in range(len(local)):\n",
    "\t\t\tif (i != 0):\n",
    "\t\t\t\tprint(\" \", end=\"\")\n",
    "\t\t\tprint(local[i], end=\"\")\n",
    "\t\t\tif (i != len(local) - 1):\n",
    "\t\t\t\tprint(\", \", end=\"\")\n",
    "\t\tprint(\"}\")\n",
    "\t\treturn\n",
    "\n",
    "\t# For all other combinations\n",
    "\tfor i in range(l, len(A), 1):\n",
    "\n",
    "\t\t# Check if the sum exceeds K\n",
    "\t\tif (sum + A[i] > K):\n",
    "\t\t\tbreak\n",
    "\n",
    "\t\t# Check if it is repeated or not\n",
    "\t\tif (i > l and\n",
    "\t\t\t\tA[i] == A[i - 1]):\n",
    "\t\t\tcontinue\n",
    "\n",
    "\t\t# Take the element into the combination\n",
    "\t\tlocal.append(A[i])\n",
    "\n",
    "\t\t# Recursive call\n",
    "\t\tunique_combination(i + 1, sum + A[i],\n",
    "\t\t\t\t\t\tK, local, A)\n",
    "\n",
    "\t\t# Remove element from the combination\n",
    "\t\tlocal.remove(local[len(local) - 1])\n",
    "\n",
    "# Function to find all combination\n",
    "# of the given elements\n",
    "\n",
    "\n",
    "def Combination(A, K):\n",
    "\n",
    "\t# Sort the given elements\n",
    "\tA.sort(reverse=False)\n",
    "\n",
    "\tlocal = []\n",
    "\n",
    "\tunique_combination(0, 0, K, local, A)\n",
    "\n",
    "\n",
    "# Driver code\n",
    "if __name__ == '__main__':\n",
    "\tA = [10, 1, 2, 7, 6, 1, 5]\n",
    "\n",
    "\tK = 8\n",
    "\n",
    "\t# Function call\n",
    "\tCombination(A, K)\n",
    "\n",
    "# This code is contributed by\n",
    "# Surendra_Gangwar\n"
   ]
  },
  {
   "cell_type": "code",
   "execution_count": null,
   "metadata": {},
   "outputs": [],
   "source": []
  }
 ],
 "metadata": {
  "kernelspec": {
   "display_name": "Python 3",
   "language": "python",
   "name": "python3"
  },
  "language_info": {
   "codemirror_mode": {
    "name": "ipython",
    "version": 3
   },
   "file_extension": ".py",
   "mimetype": "text/x-python",
   "name": "python",
   "nbconvert_exporter": "python",
   "pygments_lexer": "ipython3",
   "version": "3.7.4"
  }
 },
 "nbformat": 4,
 "nbformat_minor": 4
}
