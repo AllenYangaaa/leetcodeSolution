{
 "cells": [
  {
   "cell_type": "code",
   "execution_count": 2,
   "metadata": {},
   "outputs": [
    {
     "name": "stdout",
     "output_type": "stream",
     "text": [
      "EMILY\n",
      "DRHPaoyoisapsecpyiynth\n"
     ]
    }
   ],
   "source": [
    "class Solution(object):\n",
    "    def ebay3(self, arr):\n",
    "        maxlength = max([len(arr[i]) for i in range(len(arr))])\n",
    "        ans = ''\n",
    "        for j in range(maxlength):\n",
    "            for i in range(len(arr)):\n",
    "                if j<len(arr[i]):\n",
    "                    ans+=arr[i][j]\n",
    "        return ans\n",
    "\n",
    "a = Solution()\n",
    "print (a.ebay3(['E','M','I','L','Y']))\n",
    "print (a.ebay3(['Daisy','Rose','Hyacinth','Poppy']))"
   ]
  },
  {
   "cell_type": "code",
   "execution_count": null,
   "metadata": {},
   "outputs": [],
   "source": []
  }
 ],
 "metadata": {
  "kernelspec": {
   "display_name": "Python 3",
   "language": "python",
   "name": "python3"
  },
  "language_info": {
   "codemirror_mode": {
    "name": "ipython",
    "version": 3
   },
   "file_extension": ".py",
   "mimetype": "text/x-python",
   "name": "python",
   "nbconvert_exporter": "python",
   "pygments_lexer": "ipython3",
   "version": "3.7.4"
  }
 },
 "nbformat": 4,
 "nbformat_minor": 4
}
