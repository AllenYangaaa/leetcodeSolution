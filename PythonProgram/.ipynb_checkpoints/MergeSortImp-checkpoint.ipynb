{
 "cells": [
  {
   "cell_type": "code",
   "execution_count": 1,
   "metadata": {},
   "outputs": [
    {
     "ename": "SyntaxError",
     "evalue": "unexpected EOF while parsing (<ipython-input-1-2df1bcbc9f18>, line 2)",
     "output_type": "error",
     "traceback": [
      "\u001b[0;36m  File \u001b[0;32m\"<ipython-input-1-2df1bcbc9f18>\"\u001b[0;36m, line \u001b[0;32m2\u001b[0m\n\u001b[0;31m    def mergeSort(self, arr):\u001b[0m\n\u001b[0m                             ^\u001b[0m\n\u001b[0;31mSyntaxError\u001b[0m\u001b[0;31m:\u001b[0m unexpected EOF while parsing\n"
     ]
    }
   ],
   "source": [
    "class Solution(object):\n",
    "    # Implement of MergeSort\n",
    "    def mergeSort(self, arr):\n",
    "        self.sort(self, arr, 0, len(arr)-1)\n",
    "    def sort(self, arr, l, r):\n",
    "        if l>=r:\n",
    "            return\n",
    "        mid = (l+r)//2\n",
    "        sort(arr, l, mid)\n",
    "        sort(arr, mid+1, r)\n",
    "        self.merge(arr,l,mid,r)\n",
    "    def merge(arr,l,mid,r):\n",
    "        a = arr[l:r+1]\n",
    "        i,j = l, mid+1\n",
    "        for k in range(l,r+1):\n",
    "            if a[i]<a[j]:\n",
    "                arr[]\n",
    "        \n",
    "        \n",
    "        "
   ]
  },
  {
   "cell_type": "code",
   "execution_count": null,
   "metadata": {},
   "outputs": [],
   "source": []
  }
 ],
 "metadata": {
  "kernelspec": {
   "display_name": "Python 3",
   "language": "python",
   "name": "python3"
  },
  "language_info": {
   "codemirror_mode": {
    "name": "ipython",
    "version": 3
   },
   "file_extension": ".py",
   "mimetype": "text/x-python",
   "name": "python",
   "nbconvert_exporter": "python",
   "pygments_lexer": "ipython3",
   "version": "3.7.4"
  }
 },
 "nbformat": 4,
 "nbformat_minor": 4
}
