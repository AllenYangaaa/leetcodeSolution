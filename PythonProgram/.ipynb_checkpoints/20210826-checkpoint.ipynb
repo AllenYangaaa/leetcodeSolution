{
 "cells": [
  {
   "cell_type": "code",
   "execution_count": 17,
   "metadata": {},
   "outputs": [
    {
     "name": "stdout",
     "output_type": "stream",
     "text": [
      "heap [(0, 3, 0), (1, 2, 1), (4, 5, 2)]\n",
      "<class 'list'>\n",
      "heap[0]sdfsdfsd= (0, 3, 0)\n",
      "interval [[1, 2], [0, 3], [4, 5]]\n",
      "i,a,b =  0 1 2\n",
      "xxxxxx 2 (0, 3, 0)\n",
      "execute pop\n",
      "x= (4, 5, 2)\n",
      "xxxxxx 2 (0, 3, 0)\n",
      "execute pop\n",
      "x= (1, 2, 1)\n",
      "xxxxxx 2 (0, 3, 0)\n",
      "execute pop\n",
      "x= (0, 3, 0)\n",
      "[]\n"
     ]
    }
   ],
   "source": [
    "#给一个list，里面的element是pair [a,b]表示一个interval.对于两个interval X,Y: 如果Y是满足 x.b<y.a 的最小y.a。那么输出idx(x,y)求最后输出组成的result数组。\n",
    "import heapq\n",
    "class Solution(object):\n",
    "    def getResult(self,  interval):\n",
    "        #O(nlogn)\n",
    "        heap = []\n",
    "        for i,x in enumerate(interval):\n",
    "            a,b = x[0],x[1]\n",
    "            heapq.heappush(heap,(a,b,i))\n",
    "        print ('heap',heap)\n",
    "        print (type(heap))\n",
    "        print ('heap[0]sdfsdfsd=',heap[0])\n",
    "        interval.sort(key = lambda x:(x[1]))\n",
    "        print ('interval',interval)\n",
    "        res = []\n",
    "        for i, inter in enumerate(interval):\n",
    "            a,b = inter[0],inter[1]\n",
    "            print(\"i,a,b = \", i,a,b)\n",
    "            while heap and b>=heap[0][0]:\n",
    "                print ('xxxxxx',b, heap[0])\n",
    "                print ('execute pop')\n",
    "                x = heap.pop()\n",
    "                print('x=',x)\n",
    "            if not heap: return res\n",
    "            res.append([i,heap[0][2]])\n",
    "        return res\n",
    "            \n",
    "        \n",
    "a = Solution()\n",
    "print (a.getResult([[0,3], [1,2], [4,5]])) # \n",
    "# print (a.getResult([[0,2], [2,3], [3,5], [4,7]])) # \n",
    "# print (a.getResult([[0,4], [1,3], [3,5]])) # \n",
    "# print (a.getResult([[0,3], [1,2], [4,5]])) # \n",
    "# print (a.getResult([[0,4], [1,2], [3,5]])) # \n",
    "# print (a.getResult([[1,4], [2,3]])) # \n"
   ]
  },
  {
   "cell_type": "code",
   "execution_count": null,
   "metadata": {},
   "outputs": [],
   "source": []
  },
  {
   "cell_type": "code",
   "execution_count": null,
   "metadata": {},
   "outputs": [],
   "source": []
  }
 ],
 "metadata": {
  "kernelspec": {
   "display_name": "Python 3",
   "language": "python",
   "name": "python3"
  },
  "language_info": {
   "codemirror_mode": {
    "name": "ipython",
    "version": 3
   },
   "file_extension": ".py",
   "mimetype": "text/x-python",
   "name": "python",
   "nbconvert_exporter": "python",
   "pygments_lexer": "ipython3",
   "version": "3.7.4"
  }
 },
 "nbformat": 4,
 "nbformat_minor": 4
}
