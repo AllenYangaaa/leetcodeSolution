{
 "cells": [
  {
   "cell_type": "code",
   "execution_count": null,
   "metadata": {},
   "outputs": [],
   "source": [
    "import pandas as pd\n",
    "import numpy as np\n",
    "original_df = pd.DataFrame({\"foo\": [0,1,2,3,'None'], \"bar\": [5,6,7,9,None]})"
   ]
  },
  {
   "cell_type": "code",
   "execution_count": null,
   "metadata": {},
   "outputs": [],
   "source": [
    "original_df"
   ]
  },
  {
   "cell_type": "code",
   "execution_count": 80,
   "metadata": {},
   "outputs": [],
   "source": [
    "pd.to_pickle(original_df, \"./dummy.pkl\")"
   ]
  },
  {
   "cell_type": "code",
   "execution_count": null,
   "metadata": {},
   "outputs": [],
   "source": [
    "unpickled_df = pd.read_pickle(\"./close.pkl\")"
   ]
  },
  {
   "cell_type": "code",
   "execution_count": null,
   "metadata": {},
   "outputs": [],
   "source": [
    "unpickled_df"
   ]
  },
  {
   "cell_type": "code",
   "execution_count": null,
   "metadata": {},
   "outputs": [],
   "source": [
    "type(unpickled_df)"
   ]
  },
  {
   "cell_type": "code",
   "execution_count": null,
   "metadata": {},
   "outputs": [],
   "source": [
    "unpickled_df.index"
   ]
  },
  {
   "cell_type": "code",
   "execution_count": 109,
   "metadata": {},
   "outputs": [
    {
     "data": {
      "text/plain": [
       "<generator object DataFrame.items at 0x11b0a4ed0>"
      ]
     },
     "execution_count": 109,
     "metadata": {},
     "output_type": "execute_result"
    }
   ],
   "source": [
    "unpickled_df.items()"
   ]
  },
  {
   "cell_type": "code",
   "execution_count": 110,
   "metadata": {},
   "outputs": [
    {
     "data": {
      "text/plain": [
       "Index(['T1803.CFE', 'T1806.CFE', 'T1809.CFE', 'T1812.CFE', 'T1903.CFE',\n",
       "       'T1906.CFE', 'T1909.CFE', 'T1912.CFE', 'T2003.CFE', 'T2006.CFE',\n",
       "       'T2009.CFE', 'T2012.CFE', 'T2103.CFE', 'TF1803.CFE', 'TF1806.CFE',\n",
       "       'TF1809.CFE', 'TF1812.CFE', 'TF1903.CFE', 'TF1906.CFE', 'TF1909.CFE',\n",
       "       'TF1912.CFE', 'TF2003.CFE', 'TF2006.CFE', 'TF2009.CFE', 'TF2012.CFE',\n",
       "       'TF2103.CFE', 'TS1812.CFE', 'TS1903.CFE', 'TS1906.CFE', 'TS1909.CFE',\n",
       "       'TS1912.CFE', 'TS2003.CFE', 'TS2006.CFE', 'TS2009.CFE', 'TS2012.CFE',\n",
       "       'TS2103.CFE'],\n",
       "      dtype='object')"
      ]
     },
     "execution_count": 110,
     "metadata": {},
     "output_type": "execute_result"
    }
   ],
   "source": [
    "unpickled_df.keys()"
   ]
  },
  {
   "cell_type": "code",
   "execution_count": 111,
   "metadata": {},
   "outputs": [
    {
     "data": {
      "text/plain": [
       "DatetimeIndex(['2018-01-02 09:15:00', '2018-01-02 09:16:00',\n",
       "               '2018-01-02 09:17:00', '2018-01-02 09:18:00',\n",
       "               '2018-01-02 09:19:00', '2018-01-02 09:20:00',\n",
       "               '2018-01-02 09:21:00', '2018-01-02 09:22:00',\n",
       "               '2018-01-02 09:23:00', '2018-01-02 09:24:00',\n",
       "               ...\n",
       "               '2020-07-03 15:06:00', '2020-07-03 15:07:00',\n",
       "               '2020-07-03 15:08:00', '2020-07-03 15:09:00',\n",
       "               '2020-07-03 15:10:00', '2020-07-03 15:11:00',\n",
       "               '2020-07-03 15:12:00', '2020-07-03 15:13:00',\n",
       "               '2020-07-03 15:14:00', '2020-07-03 15:15:00'],\n",
       "              dtype='datetime64[ns]', length=165074, freq=None)"
      ]
     },
     "execution_count": 111,
     "metadata": {},
     "output_type": "execute_result"
    }
   ],
   "source": [
    "unpickled_df.index"
   ]
  },
  {
   "cell_type": "code",
   "execution_count": 112,
   "metadata": {},
   "outputs": [
    {
     "data": {
      "text/plain": [
       "Index(['T1803.CFE', 'T1806.CFE', 'T1809.CFE', 'T1812.CFE', 'T1903.CFE',\n",
       "       'T1906.CFE', 'T1909.CFE', 'T1912.CFE', 'T2003.CFE', 'T2006.CFE',\n",
       "       'T2009.CFE', 'T2012.CFE', 'T2103.CFE', 'TF1803.CFE', 'TF1806.CFE',\n",
       "       'TF1809.CFE', 'TF1812.CFE', 'TF1903.CFE', 'TF1906.CFE', 'TF1909.CFE',\n",
       "       'TF1912.CFE', 'TF2003.CFE', 'TF2006.CFE', 'TF2009.CFE', 'TF2012.CFE',\n",
       "       'TF2103.CFE', 'TS1812.CFE', 'TS1903.CFE', 'TS1906.CFE', 'TS1909.CFE',\n",
       "       'TS1912.CFE', 'TS2003.CFE', 'TS2006.CFE', 'TS2009.CFE', 'TS2012.CFE',\n",
       "       'TS2103.CFE'],\n",
       "      dtype='object')"
      ]
     },
     "execution_count": 112,
     "metadata": {},
     "output_type": "execute_result"
    }
   ],
   "source": [
    "unpickled_df.columns"
   ]
  },
  {
   "cell_type": "code",
   "execution_count": 113,
   "metadata": {},
   "outputs": [],
   "source": [
    "df = unpickled_df"
   ]
  },
  {
   "cell_type": "code",
   "execution_count": 114,
   "metadata": {},
   "outputs": [
    {
     "name": "stdout",
     "output_type": "stream",
     "text": [
      "                    T1803.CFE T1806.CFE T1809.CFE T1812.CFE T1903.CFE  \\\n",
      "2018-01-02 09:15:00     93.16     93.36      None       NaN       NaN   \n",
      "2018-01-02 09:16:00    93.185      None      None       NaN       NaN   \n",
      "2018-01-02 09:17:00    93.175      None      None       NaN       NaN   \n",
      "2018-01-02 09:18:00    93.175      None      None       NaN       NaN   \n",
      "2018-01-02 09:19:00    93.185      None      None       NaN       NaN   \n",
      "...                       ...       ...       ...       ...       ...   \n",
      "2020-07-03 15:11:00       NaN       NaN       NaN       NaN       NaN   \n",
      "2020-07-03 15:12:00       NaN       NaN       NaN       NaN       NaN   \n",
      "2020-07-03 15:13:00       NaN       NaN       NaN       NaN       NaN   \n",
      "2020-07-03 15:14:00       NaN       NaN       NaN       NaN       NaN   \n",
      "2020-07-03 15:15:00       NaN       NaN       NaN       NaN       NaN   \n",
      "\n",
      "                    T1906.CFE T1909.CFE T1912.CFE T2003.CFE T2006.CFE  ...  \\\n",
      "2018-01-02 09:15:00       NaN       NaN       NaN       NaN       NaN  ...   \n",
      "2018-01-02 09:16:00       NaN       NaN       NaN       NaN       NaN  ...   \n",
      "2018-01-02 09:17:00       NaN       NaN       NaN       NaN       NaN  ...   \n",
      "2018-01-02 09:18:00       NaN       NaN       NaN       NaN       NaN  ...   \n",
      "2018-01-02 09:19:00       NaN       NaN       NaN       NaN       NaN  ...   \n",
      "...                       ...       ...       ...       ...       ...  ...   \n",
      "2020-07-03 15:11:00       NaN       NaN       NaN       NaN       NaN  ...   \n",
      "2020-07-03 15:12:00       NaN       NaN       NaN       NaN       NaN  ...   \n",
      "2020-07-03 15:13:00       NaN       NaN       NaN       NaN       NaN  ...   \n",
      "2020-07-03 15:14:00       NaN       NaN       NaN       NaN       NaN  ...   \n",
      "2020-07-03 15:15:00       NaN       NaN       NaN       NaN       NaN  ...   \n",
      "\n",
      "                    TS1812.CFE TS1903.CFE TS1906.CFE TS1909.CFE TS1912.CFE  \\\n",
      "2018-01-02 09:15:00        NaN        NaN        NaN        NaN        NaN   \n",
      "2018-01-02 09:16:00        NaN        NaN        NaN        NaN        NaN   \n",
      "2018-01-02 09:17:00        NaN        NaN        NaN        NaN        NaN   \n",
      "2018-01-02 09:18:00        NaN        NaN        NaN        NaN        NaN   \n",
      "2018-01-02 09:19:00        NaN        NaN        NaN        NaN        NaN   \n",
      "...                        ...        ...        ...        ...        ...   \n",
      "2020-07-03 15:11:00        NaN        NaN        NaN        NaN        NaN   \n",
      "2020-07-03 15:12:00        NaN        NaN        NaN        NaN        NaN   \n",
      "2020-07-03 15:13:00        NaN        NaN        NaN        NaN        NaN   \n",
      "2020-07-03 15:14:00        NaN        NaN        NaN        NaN        NaN   \n",
      "2020-07-03 15:15:00        NaN        NaN        NaN        NaN        NaN   \n",
      "\n",
      "                    TS2003.CFE TS2006.CFE TS2009.CFE TS2012.CFE TS2103.CFE  \n",
      "2018-01-02 09:15:00        NaN        NaN        NaN        NaN        NaN  \n",
      "2018-01-02 09:16:00        NaN        NaN        NaN        NaN        NaN  \n",
      "2018-01-02 09:17:00        NaN        NaN        NaN        NaN        NaN  \n",
      "2018-01-02 09:18:00        NaN        NaN        NaN        NaN        NaN  \n",
      "2018-01-02 09:19:00        NaN        NaN        NaN        NaN        NaN  \n",
      "...                        ...        ...        ...        ...        ...  \n",
      "2020-07-03 15:11:00        NaN        NaN    101.185       None       None  \n",
      "2020-07-03 15:12:00        NaN        NaN    101.185    101.005       None  \n",
      "2020-07-03 15:13:00        NaN        NaN     101.19       None       None  \n",
      "2020-07-03 15:14:00        NaN        NaN    101.185       None       None  \n",
      "2020-07-03 15:15:00        NaN        NaN    101.185    101.005      100.8  \n",
      "\n",
      "[165074 rows x 36 columns]\n"
     ]
    }
   ],
   "source": [
    "print(df)"
   ]
  },
  {
   "cell_type": "code",
   "execution_count": null,
   "metadata": {},
   "outputs": [],
   "source": [
    "print('Please input the first product for comparing:')\n",
    "A = input()#输入要比较的名字\n",
    "print('Please input the second product for comparing:')\n",
    "B = input()#输入另一个要比较的名字\n",
    "res = {'time':[],A:[],B:[],'diff':[]}\n",
    "for i in df.index:\n",
    "    a = df.at[i,A]\n",
    "    b = df.at[i,B]\n",
    "    if not a or a=='None':\n",
    "        a = np.NaN\n",
    "    if not a or b=='None':\n",
    "        b = np.NaN\n",
    "    diff = a-b\n",
    "#     print (i,A,'=',a,B,'=',b,'diff = ',diff)\n",
    "    res['time'].append(i)\n",
    "    res[A].append(a)\n",
    "    res[B].append(b)\n",
    "    res['diff'].append(diff)\n",
    "new_df = pd.DataFrame(res)\n",
    "new_df.to_csv('./result.csv')\n",
    "    "
   ]
  },
  {
   "cell_type": "code",
   "execution_count": null,
   "metadata": {},
   "outputs": [],
   "source": [
    "print (np.NaN-0)\n",
    "print(0-np.NaN)\n",
    "print (np.NaN-np.NaN)"
   ]
  },
  {
   "cell_type": "code",
   "execution_count": null,
   "metadata": {},
   "outputs": [],
   "source": []
  }
 ],
 "metadata": {
  "kernelspec": {
   "display_name": "Python 3",
   "language": "python",
   "name": "python3"
  },
  "language_info": {
   "codemirror_mode": {
    "name": "ipython",
    "version": 3
   },
   "file_extension": ".py",
   "mimetype": "text/x-python",
   "name": "python",
   "nbconvert_exporter": "python",
   "pygments_lexer": "ipython3",
   "version": "3.7.4"
  }
 },
 "nbformat": 4,
 "nbformat_minor": 4
}
