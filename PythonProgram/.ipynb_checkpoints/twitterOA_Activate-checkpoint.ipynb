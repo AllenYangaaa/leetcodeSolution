{
 "cells": [
  {
   "cell_type": "code",
   "execution_count": 6,
   "metadata": {},
   "outputs": [
    {
     "name": "stdout",
     "output_type": "stream",
     "text": [
      "[7, 2, 3, 0, 9, 6, 0, 8, 9]\n",
      "True\n",
      "[4, 4, 0, 6, 0, 6]\n",
      "True\n",
      "[4, 4, 0, 4, 6, 0]\n",
      "True\n",
      "[5, 2, 0, 6, 0, 6]\n",
      "True\n",
      "[3, 2, 3, 4, 5]\n",
      "True\n",
      "[1, 2, 3, 4, 5]\n",
      "True\n",
      "[3, 3, 0]\n",
      "True\n",
      "[3, 0, 3]\n",
      "True\n"
     ]
    }
   ],
   "source": [
    "class Solution:\n",
    "    def numFountains(fountains):\n",
    "        N = len(fountains)\n",
    "        extents = [0]*N\n",
    "        for i in range(N):\n",
    "            left = max(0,i-fountains[i])\n",
    "            # key!!!\n",
    "            right = min(N,i+fountains[i]+1)\n",
    "            extents[left] = max(extents[left],right)\n",
    "        print (extents)\n",
    "        ans = 0\n",
    "        right = extents[0]\n",
    "        nxt = 0\n",
    "        for i in range(N):\n",
    "            nxt = max(nxt,extents[i])\n",
    "            if i==right:\n",
    "                ans+=1\n",
    "                right = nxt\n",
    "        return ans+1\n",
    "            \n",
    "    \n",
    "    \n",
    "print(Solution.numFountains([0,0,0,3,0,0,2,0,0]) == 2)\n",
    "print(Solution.numFountains([3,0,1,0,1,0]) == 2)\n",
    "print(Solution.numFountains([3,0,1,0,0,1]) ==2)\n",
    "print(Solution.numFountains([2,0,2,0,1,0]) == 2)\n",
    "print(Solution.numFountains([2,0,0,0,0]) == 3)\n",
    "print(Solution.numFountains([0,0,0,0,0]) == 5)\n",
    "print(Solution.numFountains([1,2,1]) == 1)\n",
    "print(Solution.numFountains([0,1,0]) == 1)"
   ]
  },
  {
   "cell_type": "code",
   "execution_count": null,
   "metadata": {},
   "outputs": [],
   "source": []
  }
 ],
 "metadata": {
  "kernelspec": {
   "display_name": "Python 3",
   "language": "python",
   "name": "python3"
  },
  "language_info": {
   "codemirror_mode": {
    "name": "ipython",
    "version": 3
   },
   "file_extension": ".py",
   "mimetype": "text/x-python",
   "name": "python",
   "nbconvert_exporter": "python",
   "pygments_lexer": "ipython3",
   "version": "3.7.4"
  }
 },
 "nbformat": 4,
 "nbformat_minor": 4
}
