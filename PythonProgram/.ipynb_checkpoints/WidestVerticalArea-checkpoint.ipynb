{
 "cells": [
  {
   "cell_type": "code",
   "execution_count": 3,
   "id": "248c7e81-c701-4f20-9088-6af55f0cc703",
   "metadata": {
    "tags": []
   },
   "outputs": [
    {
     "name": "stdout",
     "output_type": "stream",
     "text": [
      "1\n",
      "3\n"
     ]
    }
   ],
   "source": [
    "\n",
    "class Solution:\n",
    "    def maxWidthOfVerticalArea(self, points) -> int:\n",
    "        points.sort(key=lambda x: x[0])\n",
    "\n",
    "        max_width = 0\n",
    "\n",
    "        for i in range(1, len(points)):\n",
    "            width = points[i][0] - points[i - 1][0]\n",
    "            max_width = max(max_width, width)\n",
    "\n",
    "        return max_width\n",
    "\n",
    "\n",
    "        # lst = [a for a, b in points]\n",
    "        # setL = set(lst)\n",
    "        # sortedL = sorted(list(setL))\n",
    "\n",
    "        # if len(sortedL) == 1:\n",
    "        #     return 0\n",
    "        # mx = 0\n",
    "        # for i in range(1, len(sortedL)):\n",
    "        #     mx = max(mx, sortedL[i] - sortedL[i - 1])\n",
    "        # return mx\n",
    "        \n",
    "a = Solution()\n",
    "print (a.maxWidthOfVerticalArea([[8,7],[9,9],[7,4],[9,7]]))\n",
    "print (a.maxWidthOfVerticalArea([[3,1],[9,0],[1,0],[1,4],[5,3],[8,8]]))\n",
    "\n",
    "\n"
   ]
  },
  {
   "cell_type": "code",
   "execution_count": null,
   "id": "291b0097-5e10-4306-902a-2eb555652e00",
   "metadata": {},
   "outputs": [],
   "source": []
  }
 ],
 "metadata": {
  "kernelspec": {
   "display_name": "Python 3 (ipykernel)",
   "language": "python",
   "name": "python3"
  },
  "language_info": {
   "codemirror_mode": {
    "name": "ipython",
    "version": 3
   },
   "file_extension": ".py",
   "mimetype": "text/x-python",
   "name": "python",
   "nbconvert_exporter": "python",
   "pygments_lexer": "ipython3",
   "version": "3.11.3"
  }
 },
 "nbformat": 4,
 "nbformat_minor": 5
}
