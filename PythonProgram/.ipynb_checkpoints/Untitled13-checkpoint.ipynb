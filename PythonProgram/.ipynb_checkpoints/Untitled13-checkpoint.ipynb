{
 "cells": [
  {
   "cell_type": "code",
   "execution_count": 1,
   "metadata": {},
   "outputs": [
    {
     "name": "stdout",
     "output_type": "stream",
     "text": [
      "2\n"
     ]
    }
   ],
   "source": [
    "import collections\n",
    "class Solution(object):\n",
    "    def test3(self,n,arr,pairs):\n",
    "        # 存edge\n",
    "        hashMap = collections.defaultdict(list)\n",
    "        # 存已访问的node\n",
    "        visited = set()\n",
    "        # 存以该点开始的最长边长度\n",
    "        values = [1]*(n+1)\n",
    "        for u,v in pairs:\n",
    "            hashMap[u]+=v,\n",
    "        def dfs(node):\n",
    "            if node in visited:\n",
    "                return values[node]\n",
    "            for nxt in hashMap[node]:\n",
    "                if arr[nxt-1]>arr[node-1]:\n",
    "                    values[node] = max(values[node],1+dfs(nxt))\n",
    "            visited.add(node)\n",
    "            return values[node]\n",
    "        for i in range(1,n+1):\n",
    "            dfs(i)\n",
    "        return max(values)\n",
    "a = Solution()\n",
    "\n",
    "print (a.test3(5,[3,5,5,4,1],[[1,2],[1,3],[2,4],[2,5]]))"
   ]
  },
  {
   "cell_type": "code",
   "execution_count": null,
   "metadata": {},
   "outputs": [],
   "source": []
  }
 ],
 "metadata": {
  "kernelspec": {
   "display_name": "Python 3",
   "language": "python",
   "name": "python3"
  },
  "language_info": {
   "codemirror_mode": {
    "name": "ipython",
    "version": 3
   },
   "file_extension": ".py",
   "mimetype": "text/x-python",
   "name": "python",
   "nbconvert_exporter": "python",
   "pygments_lexer": "ipython3",
   "version": "3.7.4"
  }
 },
 "nbformat": 4,
 "nbformat_minor": 4
}
