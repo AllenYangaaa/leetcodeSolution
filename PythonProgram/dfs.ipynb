{
 "cells": [
  {
   "cell_type": "code",
   "execution_count": null,
   "metadata": {},
   "outputs": [],
   "source": [
    "class Solution():\n",
    "    def dfs(self, cur, visited = None):\n",
    "        # base case : search success\n",
    "        # base case : search fail\n",
    "        # ? set cur visited to True\n",
    "        for nxt in findNext(cur):\n",
    "            # update state\n",
    "            dfs(nxt)\n",
    "            # set state back\n",
    "        # ? set visited back\n",
    "        \n",
    "        \n",
    "a = Solution()\n",
    "print (a.dfs()) #"
   ]
  }
 ],
 "metadata": {
  "kernelspec": {
   "display_name": "Python 3 (ipykernel)",
   "language": "python",
   "name": "python3"
  },
  "language_info": {
   "codemirror_mode": {
    "name": "ipython",
    "version": 3
   },
   "file_extension": ".py",
   "mimetype": "text/x-python",
   "name": "python",
   "nbconvert_exporter": "python",
   "pygments_lexer": "ipython3",
   "version": "3.11.3"
  }
 },
 "nbformat": 4,
 "nbformat_minor": 4
}
