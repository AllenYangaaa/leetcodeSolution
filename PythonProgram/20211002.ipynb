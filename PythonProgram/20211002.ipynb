{
 "cells": [
  {
   "cell_type": "code",
   "execution_count": 24,
   "metadata": {},
   "outputs": [
    {
     "name": "stdout",
     "output_type": "stream",
     "text": [
      "(A(B(D)(G))(C(E(F))(H)))\n",
      "E3\n",
      "E2\n",
      "E1\n",
      "E4\n",
      "E5\n"
     ]
    }
   ],
   "source": [
    "import collections\n",
    "class Solution(object):\n",
    "    def parseString(self,  string):\n",
    "        if not string: return 'E5'\n",
    "        arr = string.split(' ')\n",
    "        graph = collections.defaultdict(set)\n",
    "        for i in range(len(arr)):\n",
    "            u,v = arr[i][1], arr[i][3]\n",
    "            if u in graph[v] or v in graph[u]:\n",
    "                return 'E2'\n",
    "            graph[u].add(v)\n",
    "            graph[v].add(u)\n",
    "            if len(graph[u])>3 or len(graph[v])>3:\n",
    "                return 'E1'\n",
    "        minRoot = None\n",
    "        for root in graph:\n",
    "            if len(graph[root])>2: continue\n",
    "            q = collections.deque()\n",
    "            visited = set()\n",
    "            visited.add(root)\n",
    "            q.append((root,None))\n",
    "            while q:\n",
    "                cur,par = q.popleft()\n",
    "                for nxt in graph[cur]:\n",
    "                    if nxt not in visited:\n",
    "                        visited.add(nxt)\n",
    "                        q.append((nxt, cur))\n",
    "                    elif nxt!= par:\n",
    "                        return 'E3'\n",
    "            if len(visited)==len(graph) and (not minRoot or root<minRoot):\n",
    "                minRoot = root\n",
    "        if not minRoot:\n",
    "            return 'E4'\n",
    "        def buildString(root, parent):\n",
    "            res = ''\n",
    "            res1 = ''\n",
    "            res2 = ''\n",
    "            for nxt in graph[root]:\n",
    "                if nxt != parent:\n",
    "                    if not res1:\n",
    "                        res1 = buildString(nxt,root)\n",
    "                    else:\n",
    "                        res2 = buildString(nxt,root)\n",
    "            if res1 and res2:\n",
    "                res1,res2 = min(res1,res2), max(res1,res2)\n",
    "                res = '('+root+res1+res2+')'\n",
    "            elif res1:\n",
    "                res = '('+root+res1+')'\n",
    "            else:\n",
    "                res = '('+root+')'\n",
    "            return res\n",
    "        return buildString(minRoot, None)\n",
    "        \n",
    "                \n",
    "                \n",
    "            \n",
    "        \n",
    "a = Solution()\n",
    "print (a.parseString('(A,B) (A,C) (B,G) (C,H) (E,F) (B,D) (C,E)'))\n",
    "print (a.parseString('(A,B) (A,C) (B,D) (D,C)'))\n",
    "print (a.parseString('(A,B) (A,C) (B,D) (B,D)'))\n",
    "print (a.parseString('(A,B) (A,C) (A,D) (A,E)'))\n",
    "print (a.parseString('(A,B) (D,C)'))\n",
    "print (a.parseString(''))\n"
   ]
  },
  {
   "cell_type": "code",
   "execution_count": null,
   "metadata": {},
   "outputs": [],
   "source": []
  },
  {
   "cell_type": "code",
   "execution_count": null,
   "metadata": {},
   "outputs": [],
   "source": []
  }
 ],
 "metadata": {
  "kernelspec": {
   "display_name": "Python 3",
   "language": "python",
   "name": "python3"
  },
  "language_info": {
   "codemirror_mode": {
    "name": "ipython",
    "version": 3
   },
   "file_extension": ".py",
   "mimetype": "text/x-python",
   "name": "python",
   "nbconvert_exporter": "python",
   "pygments_lexer": "ipython3",
   "version": "3.7.4"
  }
 },
 "nbformat": 4,
 "nbformat_minor": 4
}
