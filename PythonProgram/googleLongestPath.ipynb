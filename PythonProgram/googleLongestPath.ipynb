{
 "cells": [
  {
   "cell_type": "code",
   "execution_count": 1,
   "metadata": {},
   "outputs": [
    {
     "name": "stdout",
     "output_type": "stream",
     "text": [
      "3\n"
     ]
    }
   ],
   "source": [
    "import collections\n",
    "class Solution():\n",
    "    def longestPath(self, ipt):\n",
    "        inputSet = set(ipt)\n",
    "        memo = collections.defaultdict()\n",
    "        res = 1\n",
    "        \n",
    "        def getPath(word):\n",
    "            if word in memo:\n",
    "                return memo[word]\n",
    "            res = 1\n",
    "            for i in range(26):\n",
    "                c = chr(ord('a')+i)\n",
    "                newWord = word+c\n",
    "                if newWord in inputSet:\n",
    "                    res = max(res,getPath(newWord)+1)\n",
    "            memo[word]= res\n",
    "            return res\n",
    "        \n",
    "        for word in ipt:\n",
    "            res = max(res,getPath(word))\n",
    "        return res\n",
    "    \n",
    "# tc: O(N)\n",
    "# sc: O(N)\n",
    "            \n",
    "\n",
    "a = Solution()\n",
    "print (a.longestPath(['a','ab','abc','ac']))"
   ]
  },
  {
   "cell_type": "code",
   "execution_count": null,
   "metadata": {},
   "outputs": [],
   "source": []
  }
 ],
 "metadata": {
  "kernelspec": {
   "display_name": "Python 3",
   "language": "python",
   "name": "python3"
  },
  "language_info": {
   "codemirror_mode": {
    "name": "ipython",
    "version": 3
   },
   "file_extension": ".py",
   "mimetype": "text/x-python",
   "name": "python",
   "nbconvert_exporter": "python",
   "pygments_lexer": "ipython3",
   "version": "3.7.4"
  }
 },
 "nbformat": 4,
 "nbformat_minor": 4
}
