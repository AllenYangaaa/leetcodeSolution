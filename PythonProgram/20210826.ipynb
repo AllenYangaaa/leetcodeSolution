{
 "cells": [
  {
   "cell_type": "code",
   "execution_count": 1,
   "metadata": {},
   "outputs": [
    {
     "name": "stdout",
     "output_type": "stream",
     "text": [
      "[[1, 2], [0, 2]]\n",
      "[[0, 2], [1, 3]]\n",
      "[]\n",
      "[[0, 2]]\n",
      "[[1, 2]]\n",
      "[]\n"
     ]
    }
   ],
   "source": [
    "#给一个list，里面的element是pair [a,b]表示一个interval.对于两个interval X,Y: 如果Y是满足 x.b<y.a 的最小y.a。那么输出idx(x,y)求最后输出组成的result数组。\n",
    "import heapq\n",
    "class Solution(object):\n",
    "    def getResult(self,  interval):\n",
    "        #O(nlogn)\n",
    "        heap = []\n",
    "        heapq.heapify(heap)\n",
    "        for i,x in enumerate(interval):\n",
    "            a,b = x[0],x[1]\n",
    "            heapq.heappush(heap,(a,b,i))\n",
    "        newInterval = []\n",
    "        for i,inter in enumerate(interval):\n",
    "            newInterval.append((inter[0],inter[1],i))\n",
    "        newInterval.sort(key = lambda x:x[1])\n",
    "        res = []\n",
    "        for i, inter in enumerate(newInterval):\n",
    "            a,b,idx = inter[0],inter[1],inter[2]\n",
    "            while heap and b>=heap[0][0]:\n",
    "                x = heapq.heappop(heap)\n",
    "            if not heap: return res\n",
    "            res.append([idx,heap[0][2]])\n",
    "        return res\n",
    "            \n",
    "        \n",
    "a = Solution()\n",
    "print (a.getResult([[0,3], [1,2], [4,5]])) # [[1,2],[0,2]]\n",
    "\n",
    "print (a.getResult([[0,2], [2,3], [3,5], [4,7]])) # [[0, 2], [1, 3]]\n",
    "\n",
    "print (a.getResult([[0,4], [1,3], [3,5]])) # []\n",
    "\n",
    "print (a.getResult([[1,2], [2,9], [3,4]])) # []\n",
    "\n",
    "print (a.getResult([[0,4], [1,2], [3,5]])) # [[0, 2]]\n",
    "\n",
    "print (a.getResult([[1,4], [2,3]])) # []"
   ]
  },
  {
   "cell_type": "code",
   "execution_count": null,
   "metadata": {},
   "outputs": [],
   "source": []
  },
  {
   "cell_type": "code",
   "execution_count": null,
   "metadata": {},
   "outputs": [],
   "source": []
  }
 ],
 "metadata": {
  "kernelspec": {
   "display_name": "Python 3 (ipykernel)",
   "language": "python",
   "name": "python3"
  },
  "language_info": {
   "codemirror_mode": {
    "name": "ipython",
    "version": 3
   },
   "file_extension": ".py",
   "mimetype": "text/x-python",
   "name": "python",
   "nbconvert_exporter": "python",
   "pygments_lexer": "ipython3",
   "version": "3.11.3"
  }
 },
 "nbformat": 4,
 "nbformat_minor": 4
}
