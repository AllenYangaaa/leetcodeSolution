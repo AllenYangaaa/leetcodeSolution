{
 "cells": [
  {
   "cell_type": "code",
   "execution_count": 3,
   "metadata": {},
   "outputs": [
    {
     "name": "stdout",
     "output_type": "stream",
     "text": [
      "8\n",
      "6\n",
      "16\n"
     ]
    }
   ],
   "source": [
    "import collections\n",
    "class Solution():\n",
    "    def leastInterval(self,tasks,n):\n",
    "        freq = collections.Counter(tasks)\n",
    "        sortedFreqValues = sorted(freq.values())\n",
    "        maxFreq = sortedFreqValues.pop()\n",
    "        idle = (maxFreq-1)*n\n",
    "        while sortedFreqValues:\n",
    "            f = sortedFreqValues.pop()\n",
    "            idle -= min(f, maxFreq-1)\n",
    "        # !tips: idle>=0\n",
    "        idle = max(idle, 0)\n",
    "        return len(tasks)+idle\n",
    "        \n",
    "        \n",
    "        \n",
    "a = Solution()\n",
    "print (a.leastInterval([\"A\",\"A\",\"A\",\"B\",\"B\",\"B\"],2)) #8\n",
    "print (a.leastInterval([\"A\",\"A\",\"A\",\"B\",\"B\",\"B\"],0)) # 6\n",
    "print (a.leastInterval([\"A\",\"A\",\"A\",\"A\",\"A\",\"A\",\"B\",\"C\",\"D\",\"E\",\"F\",\"G\"],2)) # 16"
   ]
  },
  {
   "cell_type": "code",
   "execution_count": null,
   "metadata": {},
   "outputs": [],
   "source": []
  }
 ],
 "metadata": {
  "kernelspec": {
   "display_name": "Python 3",
   "language": "python",
   "name": "python3"
  },
  "language_info": {
   "codemirror_mode": {
    "name": "ipython",
    "version": 3
   },
   "file_extension": ".py",
   "mimetype": "text/x-python",
   "name": "python",
   "nbconvert_exporter": "python",
   "pygments_lexer": "ipython3",
   "version": "3.7.4"
  }
 },
 "nbformat": 4,
 "nbformat_minor": 4
}
