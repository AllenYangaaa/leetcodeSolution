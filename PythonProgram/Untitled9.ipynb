{
 "cells": [
  {
   "cell_type": "code",
   "execution_count": 12,
   "metadata": {},
   "outputs": [
    {
     "name": "stdout",
     "output_type": "stream",
     "text": [
      "3\n"
     ]
    }
   ],
   "source": [
    "ans = 0\n",
    "col=4\n",
    "row=3\n",
    "word = 'sos'\n",
    "board = [['s','o','s','o'],['s','o','o','s'],['s','s','s','s']]\n",
    "for i in range(row):\n",
    "            for j in range(col-len(word)+1):\n",
    "                if ''.join(board[i][j:j+len(word)]) == word:\n",
    "                    ans += 1\n",
    "for i in range(col):\n",
    "            for j in range(row-len(word)+1):\n",
    "                start = board[j][i]\n",
    "                for x in range(1,len(word)):\n",
    "                    nx , ny  = j+x , i\n",
    "                    if  0<= nx < row and  0<= ny < col:\n",
    "                        start += board[nx][ny]\n",
    "                if start == word:\n",
    "                    ans += 1\n",
    "for i in range(row):\n",
    "        for j in range(col):\n",
    "            start = board[i][j]\n",
    "            for x in range(1,len(word)):\n",
    "                nx , ny  =  i+x , j + x\n",
    "                if  0<= nx < row and  0<= ny < col:\n",
    "                    start += board[nx][ny]\n",
    "            if start == word:\n",
    "                ans += 1\n",
    "print (ans)"
   ]
  },
  {
   "cell_type": "code",
   "execution_count": null,
   "metadata": {},
   "outputs": [],
   "source": []
  }
 ],
 "metadata": {
  "kernelspec": {
   "display_name": "Python 3",
   "language": "python",
   "name": "python3"
  },
  "language_info": {
   "codemirror_mode": {
    "name": "ipython",
    "version": 3
   },
   "file_extension": ".py",
   "mimetype": "text/x-python",
   "name": "python",
   "nbconvert_exporter": "python",
   "pygments_lexer": "ipython3",
   "version": "3.7.4"
  }
 },
 "nbformat": 4,
 "nbformat_minor": 4
}
