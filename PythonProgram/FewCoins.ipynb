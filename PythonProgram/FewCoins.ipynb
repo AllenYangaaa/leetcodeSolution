{
 "cells": [
  {
   "cell_type": "code",
   "execution_count": 9,
   "metadata": {},
   "outputs": [
    {
     "name": "stdout",
     "output_type": "stream",
     "text": [
      "1 5\n",
      "6 9\n",
      "4\n",
      "2 3\n",
      "3 4\n",
      "2\n"
     ]
    }
   ],
   "source": [
    "import collections\n",
    "class Solution(object):\n",
    "    def fewCoins(self, s):\n",
    "        N = len(s)\n",
    "        l,r = 0,0\n",
    "        curDict = collections.defaultdict(int)\n",
    "        cnt = len(set(s))\n",
    "        ans = N\n",
    "        while r<N:\n",
    "            while r<N and len(curDict)<cnt:\n",
    "                curDict[s[r]]+=1\n",
    "                r+=1\n",
    "            if len(curDict) == cnt:\n",
    "                while len(curDict)==cnt:\n",
    "                    curDict[s[l]]-=1\n",
    "                    if curDict[s[l]]==0:\n",
    "                        del curDict[s[l]]\n",
    "                    l+=1\n",
    "                ans = min(ans,r+1-l)\n",
    "        return ans\n",
    "            \n",
    "a = Solution()\n",
    "print (a.fewCoins('dabbcabcd'))\n",
    "print (a.fewCoins('aabaaa'))"
   ]
  },
  {
   "cell_type": "code",
   "execution_count": null,
   "metadata": {},
   "outputs": [],
   "source": []
  }
 ],
 "metadata": {
  "kernelspec": {
   "display_name": "Python 3",
   "language": "python",
   "name": "python3"
  },
  "language_info": {
   "codemirror_mode": {
    "name": "ipython",
    "version": 3
   },
   "file_extension": ".py",
   "mimetype": "text/x-python",
   "name": "python",
   "nbconvert_exporter": "python",
   "pygments_lexer": "ipython3",
   "version": "3.7.4"
  }
 },
 "nbformat": 4,
 "nbformat_minor": 4
}
