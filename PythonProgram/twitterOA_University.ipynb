{
 "cells": [
  {
   "cell_type": "code",
   "execution_count": 1,
   "metadata": {},
   "outputs": [
    {
     "name": "stdout",
     "output_type": "stream",
     "text": [
      "4\n",
      "1\n",
      "2\n"
     ]
    }
   ],
   "source": [
    "# University Career Fair\n",
    "# https://leetcode.com/discuss/interview-question/algorithms/374846/twitter-oa-2019-university-career-fair\n",
    "# greedy, try our best to arrange event who can end most early\n",
    "def universityCareerFair(arrival, duration):\n",
    "    aux = sorted(\n",
    "        list(zip(arrival, duration)),\n",
    "        key=lambda p: (sum(p), p[1])\n",
    "    )\n",
    "    ans, end = 0, -float('inf')\n",
    "    for arr, dur in aux:\n",
    "        if arr >= end:\n",
    "            ans, end = ans + 1, arr + dur\n",
    "    return ans\n",
    "    \n",
    "\n",
    "print(universityCareerFair([1, 3, 3, 5, 7], [2, 2, 1, 2, 1])) # 4\n",
    "print(universityCareerFair([1, 2], [7, 3])) # 1\n",
    "print(universityCareerFair([1, 3, 4, 6], [4, 3, 3, 2])) # 2"
   ]
  },
  {
   "cell_type": "code",
   "execution_count": null,
   "metadata": {},
   "outputs": [],
   "source": []
  }
 ],
 "metadata": {
  "kernelspec": {
   "display_name": "Python 3",
   "language": "python",
   "name": "python3"
  },
  "language_info": {
   "codemirror_mode": {
    "name": "ipython",
    "version": 3
   },
   "file_extension": ".py",
   "mimetype": "text/x-python",
   "name": "python",
   "nbconvert_exporter": "python",
   "pygments_lexer": "ipython3",
   "version": "3.7.4"
  }
 },
 "nbformat": 4,
 "nbformat_minor": 4
}
