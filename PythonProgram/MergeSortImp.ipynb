{
 "cells": [
  {
   "cell_type": "code",
   "execution_count": 2,
   "metadata": {},
   "outputs": [
    {
     "name": "stdout",
     "output_type": "stream",
     "text": [
      "[3, 9, 10, 27, 38, 43, 82]\n",
      "inf\n",
      "-inf\n"
     ]
    }
   ],
   "source": [
    "class Solution(object):\n",
    "    # Implement of MergeSort\n",
    "    def mergeSort(self, arr):\n",
    "        self.sort(arr, 0, len(arr)-1)\n",
    "        return arr\n",
    "    def sort(self, arr, l, r):\n",
    "        if l>=r:\n",
    "            return\n",
    "        mid = (l+r)//2\n",
    "        self.sort(arr, l, mid)\n",
    "        self.sort(arr, mid+1, r)\n",
    "        self.merge(arr,l,mid,r)\n",
    "    def merge(self,arr,l,mid,r):\n",
    "        a = arr[l:mid+1]\n",
    "        b = arr[mid+1:r+1]\n",
    "        i,j = l, mid+1\n",
    "        for k in range(l,r+1):\n",
    "            if i>mid:\n",
    "                arr[k] = b[j-mid-1]\n",
    "                j+=1\n",
    "                continue\n",
    "            elif j>r:\n",
    "                arr[k] = a[i-l]\n",
    "                i+=1\n",
    "                continue\n",
    "            #print (\"i,j,k,mid,l,r = \",i, j,k,mid,l,r)    \n",
    "            if a[i-l]<b[j-mid-1]:\n",
    "                arr[k] = a[i-l]\n",
    "                i+=1\n",
    "            else:\n",
    "                arr[k] = b[j-mid-1]\n",
    "                j+=1\n",
    "arr = [38,27,43,3,9,82,10]\n",
    "eg = Solution()\n",
    "\n",
    "print (eg.mergeSort(arr))\n",
    "print (float('inf'))\n",
    "print (float('-inf'))\n",
    "\n",
    "\n",
    "        \n",
    "\n",
    "        \n",
    "        "
   ]
  },
  {
   "cell_type": "code",
   "execution_count": null,
   "metadata": {},
   "outputs": [],
   "source": []
  },
  {
   "cell_type": "code",
   "execution_count": null,
   "metadata": {},
   "outputs": [],
   "source": []
  }
 ],
 "metadata": {
  "kernelspec": {
   "display_name": "Python 3",
   "language": "python",
   "name": "python3"
  },
  "language_info": {
   "codemirror_mode": {
    "name": "ipython",
    "version": 3
   },
   "file_extension": ".py",
   "mimetype": "text/x-python",
   "name": "python",
   "nbconvert_exporter": "python",
   "pygments_lexer": "ipython3",
   "version": "3.7.4"
  }
 },
 "nbformat": 4,
 "nbformat_minor": 4
}
