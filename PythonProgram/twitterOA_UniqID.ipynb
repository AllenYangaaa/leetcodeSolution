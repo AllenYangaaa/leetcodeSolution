{
 "cells": [
  {
   "cell_type": "code",
   "execution_count": 2,
   "metadata": {},
   "outputs": [
    {
     "name": "stdout",
     "output_type": "stream",
     "text": [
      "17\n"
     ]
    }
   ],
   "source": [
    "class Solution:\n",
    "    def getUniqueIdSum(arr):\n",
    "        numSet = set()\n",
    "        ans = 0\n",
    "        for num in arr:\n",
    "            while num in numSet:\n",
    "                num+=1\n",
    "            ans+=num\n",
    "            numSet.add(num)\n",
    "        return ans\n",
    "        \n",
    "        \n",
    "        \n",
    "print (Solution.getUniqueIdSum([3,2,1,2,7]))"
   ]
  },
  {
   "cell_type": "code",
   "execution_count": null,
   "metadata": {},
   "outputs": [],
   "source": []
  }
 ],
 "metadata": {
  "kernelspec": {
   "display_name": "Python 3",
   "language": "python",
   "name": "python3"
  },
  "language_info": {
   "codemirror_mode": {
    "name": "ipython",
    "version": 3
   },
   "file_extension": ".py",
   "mimetype": "text/x-python",
   "name": "python",
   "nbconvert_exporter": "python",
   "pygments_lexer": "ipython3",
   "version": "3.7.4"
  }
 },
 "nbformat": 4,
 "nbformat_minor": 4
}
