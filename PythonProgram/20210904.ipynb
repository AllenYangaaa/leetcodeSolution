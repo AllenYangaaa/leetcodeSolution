{
 "cells": [
  {
   "cell_type": "code",
   "execution_count": 12,
   "metadata": {},
   "outputs": [
    {
     "name": "stdout",
     "output_type": "stream",
     "text": [
      "5\n"
     ]
    }
   ],
   "source": [
    "# Python3 program to find the largest\n",
    "# subsquare surrounded by 'X' in a given\n",
    "# matrix of 'O' and 'X'\n",
    "\n",
    "# Size of given matrix is N X N\n",
    "N = 6\n",
    "\n",
    "def maximumSubSquare(arr):\n",
    "\t\n",
    "\tdp = [[[-1, -1] for i in range(51)]\n",
    "\t\t\t\t\tfor j in range(51)]\n",
    "\n",
    "# \t# Initialize maxside with 0\n",
    "# \tmaxside = [[0 for i in range(51)]\n",
    "# \t\t\t\tfor j in range(51)]\n",
    "\t\t\t\t\n",
    "\tx = 0\n",
    "\ty = 0\n",
    "\t\n",
    "\t# Fill the dp matrix horizontally.\n",
    "\t# for contiguous 'X' increment the\n",
    "\t# value of x, otherwise make it 0\n",
    "\tfor i in range(N):\n",
    "\t\tx = 0\n",
    "\t\t\n",
    "\t\tfor j in range(N):\n",
    "\t\t\tif (arr[i][j] == 'X'):\n",
    "\t\t\t\tx += 1\n",
    "\t\t\telse:\n",
    "\t\t\t\tx = 0\n",
    "\t\t\t\t\n",
    "\t\t\tdp[i][j][0] = x\n",
    "\n",
    "\t# Fill the dp matrix vertically.\n",
    "\t# For contiguous 'X' increment\n",
    "\t# the value of y, otherwise\n",
    "\t# make it 0\n",
    "\tfor i in range(N):\n",
    "\t\tfor j in range(N):\n",
    "\t\t\tif (arr[j][i] == 'X'):\n",
    "\t\t\t\ty += 1\n",
    "\t\t\telse:\n",
    "\t\t\t\ty = 0\n",
    "\t\t\t\t\n",
    "\t\t\tdp[j][i][1] = y\n",
    "\t\n",
    "\t# Now check , for every value of (i, j) if sub-square\n",
    "\t# is possible,\n",
    "\t# traverse back horizontally by value val, and check if\n",
    "\t# vertical contiguous\n",
    "\t# 'X'enfing at (i , j-val+1) is greater than equal to\n",
    "\t# val.\n",
    "\t# Similarly, check if traversing back vertically, the\n",
    "\t# horizontal contiguous\n",
    "\t# 'X'ending at (i-val+1, j) is greater than equal to\n",
    "\t# val.\n",
    "\tmaxval = 0\n",
    "\tval = 0\n",
    "\n",
    "\tfor i in range(N):\n",
    "\t\tfor j in range(N):\n",
    "\t\t\tval = min(dp[i][j][0],\n",
    "\t\t\t\t\tdp[i][j][1])\n",
    "\t\t\twhile (val>maxval):\n",
    "\t\t\t\tif (dp[i][j - val + 1][1] >= val and dp[i - val + 1][j][0] >= val):\n",
    "\t\t\t\t\t# Update the final answer in maxval\n",
    "\t\t\t\t\tmaxval = val\n",
    "\t\t\t\t\tbreak\n",
    "\t\t\t\tval-=1\n",
    "\n",
    "\t# Return the final answe.\n",
    "\treturn maxval\n",
    "\n",
    "# Driver code\n",
    "mat = [ [ 'O', 'O', 'O', 'O', 'O', 'X' ],\n",
    "\t\t[ 'O', 'X', 'X', 'X', 'X', 'X' ],\n",
    "\t\t[ 'O', 'X', 'O', 'O', 'O', 'X' ],\n",
    "\t\t[ 'O', 'X', 'O', 'O', 'O', 'X' ],\n",
    "\t\t[ 'O', 'X', 'O', 'O', 'O', 'X' ],\n",
    "\t\t[ 'X', 'X', 'X', 'X', 'X', 'X' ] ]\n",
    "\t\t\n",
    "# Function call\n",
    "print(maximumSubSquare(mat))\n",
    "\n",
    "# This code is contributed by avanitrachhadiya2155\n"
   ]
  },
  {
   "cell_type": "code",
   "execution_count": null,
   "metadata": {},
   "outputs": [],
   "source": []
  },
  {
   "cell_type": "code",
   "execution_count": null,
   "metadata": {},
   "outputs": [],
   "source": []
  },
  {
   "cell_type": "code",
   "execution_count": null,
   "metadata": {},
   "outputs": [],
   "source": []
  }
 ],
 "metadata": {
  "kernelspec": {
   "display_name": "Python 3",
   "language": "python",
   "name": "python3"
  },
  "language_info": {
   "codemirror_mode": {
    "name": "ipython",
    "version": 3
   },
   "file_extension": ".py",
   "mimetype": "text/x-python",
   "name": "python",
   "nbconvert_exporter": "python",
   "pygments_lexer": "ipython3",
   "version": "3.7.4"
  }
 },
 "nbformat": 4,
 "nbformat_minor": 4
}
