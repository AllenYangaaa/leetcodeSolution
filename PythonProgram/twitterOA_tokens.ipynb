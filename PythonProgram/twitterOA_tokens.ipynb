{
 "cells": [
  {
   "cell_type": "code",
   "execution_count": 4,
   "metadata": {},
   "outputs": [
    {
     "name": "stdout",
     "output_type": "stream",
     "text": [
      "1\n"
     ]
    }
   ],
   "source": [
    "def numberOfTokens(expiryLimit, commands):\n",
    "    # Write your code here\n",
    "    values = dict()\n",
    "    time = 0\n",
    "\n",
    "    for action, token_id, time in commands:\n",
    "        #  set token\n",
    "        if action == 0:\n",
    "            values[token_id] = expiryLimit + time\n",
    "\n",
    "        #  reset token\n",
    "        elif action == 1:\n",
    "            # check if token exists\n",
    "            if token_id in values.keys():\n",
    "                expiry_time = values.get(token_id)\n",
    "                if expiry_time >= time:\n",
    "                    values[token_id] = values.get(token_id) + expiryLimit - (expiry_time - time)\n",
    "\n",
    "    # counting values alive after reading all the values\n",
    "    count = sum(1 for i in values.values() if i >= time)\n",
    "    return count\n",
    "print (numberOfTokens(1,[[0,1,1]]))"
   ]
  },
  {
   "cell_type": "code",
   "execution_count": null,
   "metadata": {},
   "outputs": [],
   "source": []
  }
 ],
 "metadata": {
  "kernelspec": {
   "display_name": "Python 3",
   "language": "python",
   "name": "python3"
  },
  "language_info": {
   "codemirror_mode": {
    "name": "ipython",
    "version": 3
   },
   "file_extension": ".py",
   "mimetype": "text/x-python",
   "name": "python",
   "nbconvert_exporter": "python",
   "pygments_lexer": "ipython3",
   "version": "3.7.4"
  }
 },
 "nbformat": 4,
 "nbformat_minor": 4
}
