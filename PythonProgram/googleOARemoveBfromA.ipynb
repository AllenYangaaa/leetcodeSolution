{
 "cells": [
  {
   "cell_type": "code",
   "execution_count": 6,
   "metadata": {},
   "outputs": [
    {
     "name": "stdout",
     "output_type": "stream",
     "text": [
      "6\n",
      "5\n",
      "3\n"
     ]
    }
   ],
   "source": [
    "'''\n",
    " cost 2: remove central letter\n",
    " cost 1: remove first or last letter\n",
    " return min cost to remvoe all letter b\n",
    "'''\n",
    "class Solution():\n",
    "    def removeBfromA(self, s):\n",
    "        if not s: return 0\n",
    "        cost,dpl,dpr =0,[float('inf')]*len(s),[float('inf')]*len(s)\n",
    "        dpl[0] = 0 if s[0]=='a' else 1\n",
    "        dpr[-1] = 0 if s[-1]=='a' else 1\n",
    "        for i in range(1,len(s)):\n",
    "            dpl[i] = min(dpl[i-1]+2,i+1) if s[i]=='b' else dpl[i-1]\n",
    "        for j in range(len(s)-2,-1,-1):\n",
    "            dpr[j] = min(dpr[j+1]+2, len(s)-j) if s[j]=='b' else dpr[j+1]\n",
    "        return min([dpl[i]+dpr[i+1] for i in range(1,len(s)-1)]+[dpl[-1]]+[dpr[0]])\n",
    "\n",
    "        \n",
    "a = Solution()\n",
    "print (a.removeBfromA('abbbbba')) #6\n",
    "print (a.removeBfromA('abbaaba')) #5\n",
    "print (a.removeBfromA('bbb')) #3\n",
    "\n",
    "\n"
   ]
  },
  {
   "cell_type": "code",
   "execution_count": null,
   "metadata": {},
   "outputs": [],
   "source": []
  }
 ],
 "metadata": {
  "kernelspec": {
   "display_name": "Python 3",
   "language": "python",
   "name": "python3"
  },
  "language_info": {
   "codemirror_mode": {
    "name": "ipython",
    "version": 3
   },
   "file_extension": ".py",
   "mimetype": "text/x-python",
   "name": "python",
   "nbconvert_exporter": "python",
   "pygments_lexer": "ipython3",
   "version": "3.7.4"
  }
 },
 "nbformat": 4,
 "nbformat_minor": 4
}
