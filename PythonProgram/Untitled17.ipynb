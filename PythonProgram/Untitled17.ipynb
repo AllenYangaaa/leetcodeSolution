{
 "cells": [
  {
   "cell_type": "code",
   "execution_count": 12,
   "metadata": {},
   "outputs": [
    {
     "name": "stdout",
     "output_type": "stream",
     "text": [
      "haha1=  1\n",
      "ValueError:first parameter of function haha2 cannot be 0.\n",
      "haha2=  100\n",
      "haha3=  3\n"
     ]
    }
   ],
   "source": [
    "def haha1(x):\n",
    "    print('haha1= ', x)\n",
    "    try:\n",
    "        haha2(0)\n",
    "    except ValueError as err:\n",
    "        # handle the excetion here\n",
    "        print (err)\n",
    "    haha2(100)\n",
    "    def haha3(y):\n",
    "        print('haha3= ', y)\n",
    "    haha3(3)\n",
    "\n",
    "    \n",
    "def haha2(x):\n",
    "    if x==0:\n",
    "        raise ValueError('ValueError:first parameter of function haha2 cannot be {0}.'.format(x))\n",
    "    print('haha2= ', x)\n",
    "\n",
    "haha1(1)\n",
    "# haha2(2)\n",
    "# haha2(0)"
   ]
  },
  {
   "cell_type": "code",
   "execution_count": null,
   "metadata": {},
   "outputs": [],
   "source": []
  },
  {
   "cell_type": "code",
   "execution_count": null,
   "metadata": {},
   "outputs": [],
   "source": []
  }
 ],
 "metadata": {
  "kernelspec": {
   "display_name": "Python 3",
   "language": "python",
   "name": "python3"
  },
  "language_info": {
   "codemirror_mode": {
    "name": "ipython",
    "version": 3
   },
   "file_extension": ".py",
   "mimetype": "text/x-python",
   "name": "python",
   "nbconvert_exporter": "python",
   "pygments_lexer": "ipython3",
   "version": "3.7.4"
  }
 },
 "nbformat": 4,
 "nbformat_minor": 4
}
