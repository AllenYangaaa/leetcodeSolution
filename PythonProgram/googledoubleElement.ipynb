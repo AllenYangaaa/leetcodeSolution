{
 "cells": [
  {
   "cell_type": "code",
   "execution_count": 4,
   "metadata": {},
   "outputs": [
    {
     "name": "stdout",
     "output_type": "stream",
     "text": [
      "[3, 6, 2, 4, 1, 4, 2, 8]\n",
      "[2, 8, 4, 6, 2, 3, 4, 1]\n",
      "[6, 2, 8, 1, 4, 4, 2, 3]\n"
     ]
    }
   ],
   "source": [
    "'''\n",
    "给你一个list，double each element in the list and append at the end, 要求return一个它的permutation，这个output要是non-deterministic的\n",
    "e.g. [1,4,2,3] -> [1,4,2,3,2,8,4,6] (doubled) -> [3,2,4,1,8,4,6,2] (permuted)\n",
    "'''\n",
    "import random\n",
    "class Solution():\n",
    "    def doubleElement(self, arr):\n",
    "        res = []\n",
    "        for a in arr:\n",
    "            res.append(a*2)\n",
    "        def permut(ori_arr):\n",
    "            n = len(ori_arr)\n",
    "            for i in range(n):\n",
    "                index = random.randint(i,n-1) # randint(a,b):generate a number between [a,b]\n",
    "                ori_arr[i], ori_arr[index] = ori_arr[index], ori_arr[i]\n",
    "            return ori_arr\n",
    "        return permut(res+arr)\n",
    "        \n",
    "a = Solution()\n",
    "print (a.doubleElement([1,4,2,3])) # any permutation of [1,2,3,4,2,4,6,8]\n",
    "print (a.doubleElement([1,4,2,3])) # any permutation of [1,2,3,4,2,4,6,8]\n",
    "print (a.doubleElement([1,4,2,3])) # any permutation of [1,2,3,4,2,4,6,8]\n",
    "\n",
    "\n"
   ]
  },
  {
   "cell_type": "code",
   "execution_count": null,
   "metadata": {},
   "outputs": [],
   "source": []
  },
  {
   "cell_type": "code",
   "execution_count": null,
   "metadata": {},
   "outputs": [],
   "source": []
  }
 ],
 "metadata": {
  "kernelspec": {
   "display_name": "Python 3",
   "language": "python",
   "name": "python3"
  },
  "language_info": {
   "codemirror_mode": {
    "name": "ipython",
    "version": 3
   },
   "file_extension": ".py",
   "mimetype": "text/x-python",
   "name": "python",
   "nbconvert_exporter": "python",
   "pygments_lexer": "ipython3",
   "version": "3.7.4"
  }
 },
 "nbformat": 4,
 "nbformat_minor": 4
}
