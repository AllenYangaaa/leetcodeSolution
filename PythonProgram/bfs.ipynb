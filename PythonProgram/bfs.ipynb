{
 "cells": [
  {
   "cell_type": "code",
   "execution_count": 2,
   "metadata": {},
   "outputs": [
    {
     "ename": "TypeError",
     "evalue": "unsupported operand type(s) for -: 'str' and 'str'",
     "output_type": "error",
     "traceback": [
      "\u001b[0;31m---------------------------------------------------------------------------\u001b[0m",
      "\u001b[0;31mTypeError\u001b[0m                                 Traceback (most recent call last)",
      "\u001b[0;32m<ipython-input-2-e24b00906e56>\u001b[0m in \u001b[0;36m<module>\u001b[0;34m\u001b[0m\n\u001b[1;32m     44\u001b[0m \u001b[0mx\u001b[0m \u001b[0;34m=\u001b[0m \u001b[0;34m[\u001b[0m\u001b[0;34m[\u001b[0m\u001b[0;36m1\u001b[0m\u001b[0;34m]\u001b[0m\u001b[0;34m]\u001b[0m\u001b[0;34m\u001b[0m\u001b[0;34m\u001b[0m\u001b[0m\n\u001b[1;32m     45\u001b[0m \u001b[0mx\u001b[0m\u001b[0;34m[\u001b[0m\u001b[0;36m0\u001b[0m\u001b[0;34m]\u001b[0m\u001b[0;34m.\u001b[0m\u001b[0mpop\u001b[0m\u001b[0;34m(\u001b[0m\u001b[0;34m)\u001b[0m\u001b[0;34m\u001b[0m\u001b[0;34m\u001b[0m\u001b[0m\n\u001b[0;32m---> 46\u001b[0;31m \u001b[0mprint\u001b[0m\u001b[0;34m(\u001b[0m\u001b[0;34m'b'\u001b[0m\u001b[0;34m-\u001b[0m\u001b[0;34m'a'\u001b[0m\u001b[0;34m)\u001b[0m\u001b[0;34m\u001b[0m\u001b[0;34m\u001b[0m\u001b[0m\n\u001b[0m\u001b[1;32m     47\u001b[0m \u001b[0mprint\u001b[0m \u001b[0;34m(\u001b[0m\u001b[0mx\u001b[0m\u001b[0;34m)\u001b[0m\u001b[0;34m\u001b[0m\u001b[0;34m\u001b[0m\u001b[0m\n\u001b[1;32m     48\u001b[0m \u001b[0mprint\u001b[0m \u001b[0;34m(\u001b[0m\u001b[0mtype\u001b[0m\u001b[0;34m(\u001b[0m\u001b[0mx\u001b[0m\u001b[0;34m)\u001b[0m\u001b[0;34m)\u001b[0m\u001b[0;34m\u001b[0m\u001b[0;34m\u001b[0m\u001b[0m\n",
      "\u001b[0;31mTypeError\u001b[0m: unsupported operand type(s) for -: 'str' and 'str'"
     ]
    }
   ],
   "source": [
    "'''\n",
    "Level Order Traversal\n",
    "'''\n",
    "\n",
    "import collections\n",
    "class Solution:\n",
    "    # General templet\n",
    "    def bfs(self, root):\n",
    "        \n",
    "        queue = collections.deque()\n",
    "        queue.append(root)\n",
    "        minLen = 0\n",
    "        while queue:\n",
    "            size = len(queue)\n",
    "            while size>0:\n",
    "                cur = queue.popleft()\n",
    "                nxt = func(cur)\n",
    "                if nxt not in visited:\n",
    "                    visited.add(nxt)\n",
    "                    queue.append(nxt)\n",
    "                size-=1\n",
    "            minLen+=1\n",
    "    # 定长路径\n",
    "    def bfs2(self, ipt):\n",
    "        queue = collections.deque()\n",
    "        queue.append(ipt)\n",
    "        for i in range(pathLength+1):\n",
    "            size = len(queue)\n",
    "            for i in range(size):\n",
    "                cur = queue.popleft()\n",
    "                nxt = convert(cur)\n",
    "                # visited?\n",
    "                queue.append(nxt)\n",
    "#     def testNullandlength0(self,arr):\n",
    "#         # arr -> 2d matrix\n",
    "#         if not arr: raise ValueError('arr cannot be None or an empty list') # or Illegal Argument Exception\n",
    "#         elif not arr[0]: raise RuntimeError('arr{0} cannot{1} be None or an empty list'.format(66,999))\n",
    "#         else: return 0\n",
    "        \n",
    "\n",
    "\n",
    "        \n",
    "a = Solution()\n",
    "x = [[1]]\n",
    "x[0].pop()\n",
    "print('b'-'a')\n",
    "print (x)\n",
    "print (type(x))\n",
    "print (x==None, not x, not x[0])\n",
    "# print (a.testNullandlength0([[]]))\n",
    "# print (a.([1,2,3,4,5,6,7], 8)) # 7\n",
    "# print (a.([1,11,111,1111], 5)) # 1"
   ]
  },
  {
   "cell_type": "code",
   "execution_count": null,
   "metadata": {},
   "outputs": [],
   "source": []
  },
  {
   "cell_type": "code",
   "execution_count": null,
   "metadata": {},
   "outputs": [],
   "source": []
  }
 ],
 "metadata": {
  "kernelspec": {
   "display_name": "Python 3 (ipykernel)",
   "language": "python",
   "name": "python3"
  },
  "language_info": {
   "codemirror_mode": {
    "name": "ipython",
    "version": 3
   },
   "file_extension": ".py",
   "mimetype": "text/x-python",
   "name": "python",
   "nbconvert_exporter": "python",
   "pygments_lexer": "ipython3",
   "version": "3.11.3"
  }
 },
 "nbformat": 4,
 "nbformat_minor": 4
}
