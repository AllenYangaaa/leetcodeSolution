{
 "cells": [
  {
   "cell_type": "code",
   "execution_count": 16,
   "metadata": {},
   "outputs": [
    {
     "name": "stdout",
     "output_type": "stream",
     "text": [
      "3 defaultdict(<class 'int'>, {'red': 990, 'green': 990, 'blue': 990}) 0\n",
      "4 defaultdict(<class 'int'>, {'red': 980, 'green': 980, 'white': 990}) 990\n",
      "9.9\n"
     ]
    }
   ],
   "source": [
    "import collections\n",
    "def gumball(days, arr):\n",
    "    gDict = collections.defaultdict(int)\n",
    "    ans = 0\n",
    "    for i in range(len(arr)):\n",
    "        if len(gDict)<3:\n",
    "            if arr[i] not in gDict:\n",
    "                gDict[arr[i]] = 1000\n",
    "            else:\n",
    "                gDict[arr[i]] = 1000\n",
    "            continue\n",
    "        if arr[i] in gDict:\n",
    "            gDict[arr[i]]= 1000\n",
    "        else:\n",
    "            if len(gDict)==3:\n",
    "                for item in gDict:\n",
    "                    if gDict[item] == min([gDict[item] for item in gDict]):\n",
    "                        mn = item\n",
    "                ans+= gDict[mn]\n",
    "                del gDict[mn]\n",
    "                gDict[arr[i]]=1000\n",
    "            else:\n",
    "                gDict[arr[i]]=1000   \n",
    "        for item in gDict:\n",
    "            gDict[item]-=10\n",
    "        print (i,gDict,ans)\n",
    "    return 1.0*ans/100\n",
    "            \n",
    "        \n",
    "    \n",
    "    \n",
    "    \n",
    "print (gumball(5,['red','green','blue','red','white']))"
   ]
  },
  {
   "cell_type": "code",
   "execution_count": null,
   "metadata": {},
   "outputs": [],
   "source": []
  }
 ],
 "metadata": {
  "kernelspec": {
   "display_name": "Python 3",
   "language": "python",
   "name": "python3"
  },
  "language_info": {
   "codemirror_mode": {
    "name": "ipython",
    "version": 3
   },
   "file_extension": ".py",
   "mimetype": "text/x-python",
   "name": "python",
   "nbconvert_exporter": "python",
   "pygments_lexer": "ipython3",
   "version": "3.7.4"
  }
 },
 "nbformat": 4,
 "nbformat_minor": 4
}
