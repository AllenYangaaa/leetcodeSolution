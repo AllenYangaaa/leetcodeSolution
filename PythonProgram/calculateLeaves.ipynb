{
 "cells": [
  {
   "cell_type": "code",
   "execution_count": 36,
   "metadata": {},
   "outputs": [
    {
     "name": "stdout",
     "output_type": "stream",
     "text": [
      "{'a': ['b', 'c'], 'b': [], 'c': []}\n",
      "['b', 'c']\n"
     ]
    }
   ],
   "source": [
    "import collections\n",
    "class Solution():\n",
    "    def calculateLeaves(self, graph): # print all nodes with outdegree=0 and its edges\n",
    "        res = []\n",
    "        visited = set()\n",
    "        def dfs(node):\n",
    "            if not node: return\n",
    "            if not graph[node]:\n",
    "                res.append(node)\n",
    "                return\n",
    "            for nxt in graph[node]:\n",
    "                if nxt not in visited:\n",
    "                    visited.add(nxt)\n",
    "                    dfs(nxt)\n",
    "            return \n",
    "        \n",
    "        for node in graph:\n",
    "            if node not in visited:\n",
    "                visited.add(node)\n",
    "                dfs(node)\n",
    "                \n",
    "        return res\n",
    "    \n",
    "a = Solution()\n",
    "graph = {'a':['b','c'],'b':[], 'c':[]}\n",
    "\n",
    "\n",
    "print (graph)\n",
    "print (a.calculateLeaves(graph))\n",
    "        "
   ]
  },
  {
   "cell_type": "code",
   "execution_count": null,
   "metadata": {},
   "outputs": [],
   "source": []
  },
  {
   "cell_type": "code",
   "execution_count": null,
   "metadata": {},
   "outputs": [],
   "source": []
  }
 ],
 "metadata": {
  "kernelspec": {
   "display_name": "Python 3 (ipykernel)",
   "language": "python",
   "name": "python3"
  },
  "language_info": {
   "codemirror_mode": {
    "name": "ipython",
    "version": 3
   },
   "file_extension": ".py",
   "mimetype": "text/x-python",
   "name": "python",
   "nbconvert_exporter": "python",
   "pygments_lexer": "ipython3",
   "version": "3.11.3"
  }
 },
 "nbformat": 4,
 "nbformat_minor": 4
}
