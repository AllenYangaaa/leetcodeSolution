{
 "cells": [
  {
   "cell_type": "code",
   "execution_count": 42,
   "metadata": {},
   "outputs": [
    {
     "name": "stdout",
     "output_type": "stream",
     "text": [
      "[1]\n"
     ]
    }
   ],
   "source": [
    "import collections\n",
    "from typing import List\n",
    "class Solution():\n",
    "#     def __init__(self):\n",
    "#         self.sizeMap = collections.defaultdict()\n",
    "#         self.getSize(root)\n",
    "#     def getSize(self, cur):\n",
    "#         def dfs(entity):\n",
    "#             if not entity:\n",
    "#                 return 0\n",
    "#             if entity in self.sizeMap: return self.sizeMap[entity]\n",
    "#             if entity.isAFile():\n",
    "#                 self.sizeMap[entity] = entity.size()\n",
    "#                 return self.sizeMap[entity]\n",
    "#             size = 0\n",
    "#             for nxt in entity.children:\n",
    "#                 size+=dfs(nxt)\n",
    "#             self.sizeMap[entity] = size\n",
    "#             return self.sizeMap[entity] \n",
    "#         return dfs(cur)\n",
    "#     def createNode(self, node, parent):\n",
    "#         parent.children.append(node)\n",
    "#         path = getPathFromRoot(parent):\n",
    "#             for node in path:\n",
    "#             self.sizeMap[path]+=node.size()\n",
    "    \n",
    "    def dfs1(self, graph):\n",
    "        values = collections.defaultdict()\n",
    "        children = collections.defaultdict()\n",
    "        \n",
    "        def dfs(node): # return [int, int]\n",
    "            if not node:\n",
    "                return 0,0\n",
    "            if node in values:\n",
    "                return values[node], children[node]\n",
    "            if node.isAFile():\n",
    "                values[node] = node.value()\n",
    "                children[node] = 1\n",
    "                return node.value(),1\n",
    "            v,c = 0,0\n",
    "            for nxt in node:\n",
    "                vv,cc = dfs(nxt)\n",
    "                v+=vv\n",
    "                c+=cc\n",
    "            values[node] = v\n",
    "            children[node] = c\n",
    "            return v,c\n",
    "            \n",
    "        for node in graph:\n",
    "            values[node], children[node] = dfs(node)\n",
    "        return a\n",
    "a = Solution()      \n",
    "print (a.dfs1(None))  \n",
    "            \n",
    "            \n",
    "            \n",
    "        \n",
    "        \n",
    "# tc: O(N)\n",
    "# sc: O(N)\n",
    "                "
   ]
  },
  {
   "cell_type": "code",
   "execution_count": null,
   "metadata": {},
   "outputs": [],
   "source": []
  },
  {
   "cell_type": "code",
   "execution_count": null,
   "metadata": {},
   "outputs": [],
   "source": []
  }
 ],
 "metadata": {
  "kernelspec": {
   "display_name": "Python 3",
   "language": "python",
   "name": "python3"
  },
  "language_info": {
   "codemirror_mode": {
    "name": "ipython",
    "version": 3
   },
   "file_extension": ".py",
   "mimetype": "text/x-python",
   "name": "python",
   "nbconvert_exporter": "python",
   "pygments_lexer": "ipython3",
   "version": "3.7.4"
  }
 },
 "nbformat": 4,
 "nbformat_minor": 4
}
