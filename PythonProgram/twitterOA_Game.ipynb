{
 "cells": [
  {
   "cell_type": "code",
   "execution_count": 5,
   "metadata": {},
   "outputs": [
    {
     "name": "stdout",
     "output_type": "stream",
     "text": [
      "['abc aaa 44 G', 'xxx bbb 46 G']\n"
     ]
    }
   ],
   "source": [
    "def getEventsOrder(team1, team2, events1, events2):\n",
    "    return [e for t,o,team,p,e in sorted(getEventsArr(team1, events1) + getEventsArr(team2, events2))]\n",
    "\n",
    "def getEventsArr(team, events):\n",
    "    arr = []\n",
    "    eOrder = {'G':0,'Y':1,'R':2,'S':3}\n",
    "    for e in events:\n",
    "        e_sp = e.split()\n",
    "\n",
    "        # get time\n",
    "        time = None\n",
    "        if e_sp[1].isnumeric(): time = int(e_sp[1])\n",
    "#         elif e_sp[2].isnumeric(): time = int(e_sp[2])\n",
    "        elif '+' in e_sp[1]: \n",
    "            tmp = e_sp[1].split('+')\n",
    "            time = int(tmp[0])+0.1*int(time[1])\n",
    "#         elif '+' in e_sp[2]: time = int(''.join(e_sp[2].split('+')))\n",
    "\n",
    "#         if time // 100 == 0: time *= 10\n",
    "        arr.append((time, e_sp[2],team,e_sp[1],team + ' ' + e))\n",
    "    return arr\n",
    "print (getEventsOrder('abc','xxx',['aaa 44 G'],['bbb 46 G']))"
   ]
  },
  {
   "cell_type": "code",
   "execution_count": null,
   "metadata": {},
   "outputs": [],
   "source": []
  }
 ],
 "metadata": {
  "kernelspec": {
   "display_name": "Python 3",
   "language": "python",
   "name": "python3"
  },
  "language_info": {
   "codemirror_mode": {
    "name": "ipython",
    "version": 3
   },
   "file_extension": ".py",
   "mimetype": "text/x-python",
   "name": "python",
   "nbconvert_exporter": "python",
   "pygments_lexer": "ipython3",
   "version": "3.7.4"
  }
 },
 "nbformat": 4,
 "nbformat_minor": 4
}
