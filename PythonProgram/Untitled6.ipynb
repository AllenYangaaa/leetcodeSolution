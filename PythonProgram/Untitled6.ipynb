{
 "cells": [
  {
   "cell_type": "code",
   "execution_count": 3,
   "metadata": {},
   "outputs": [
    {
     "name": "stdout",
     "output_type": "stream",
     "text": [
      "Yes\n",
      "No\n",
      "Yes\n"
     ]
    }
   ],
   "source": [
    "class Solution(object):\n",
    "    def pdd2(self,N,arr):\n",
    "        tot = sum(arr)\n",
    "        if tot%4!=0:\n",
    "            return \"No\"\n",
    "        self.length = tot/4\n",
    "        arr.sort()\n",
    "        arr = arr[::-1]\n",
    "#         self.l,self.r,self.u,self.d = [],[],[],[]\n",
    "        self.sl,self.sr,self.su,self.sd = 0,0,0,0\n",
    "        def dfs(idx):\n",
    "            if idx == len(arr):\n",
    "                return 'Yes'\n",
    "            if self.sl+arr[idx]<=self.length:\n",
    "                self.sl+=arr[idx]\n",
    "                if dfs(idx+1)=='Yes':\n",
    "                    return 'Yes'\n",
    "                self.sl-=arr[idx]\n",
    "            if self.sr+arr[idx]<=self.length:\n",
    "                self.sr+=arr[idx]\n",
    "                if dfs(idx+1)=='Yes':\n",
    "                    return 'Yes'\n",
    "                self.sr-=arr[idx]\n",
    "            if self.su+arr[idx]<=self.length:\n",
    "                self.su+=arr[idx]\n",
    "                if dfs(idx+1)=='Yes':\n",
    "                    return 'Yes'\n",
    "                self.su-=arr[idx]\n",
    "            if self.sd+arr[idx]<=self.length:\n",
    "                self.sd+=arr[idx]\n",
    "                if dfs(idx+1)=='Yes':\n",
    "                    return 'Yes'\n",
    "                self.sd-=arr[idx]\n",
    "            return 'No'\n",
    "        return dfs(0)\n",
    "a = Solution()\n",
    "print (a.pdd2(4,[1,1,1,1]))\n",
    "print (a.pdd2(5,[1,1,1,1,2]))\n",
    "print (a.pdd2(8,[1,1,1,1,2,2,4,4]))"
   ]
  },
  {
   "cell_type": "code",
   "execution_count": null,
   "metadata": {},
   "outputs": [],
   "source": []
  }
 ],
 "metadata": {
  "kernelspec": {
   "display_name": "Python 3",
   "language": "python",
   "name": "python3"
  },
  "language_info": {
   "codemirror_mode": {
    "name": "ipython",
    "version": 3
   },
   "file_extension": ".py",
   "mimetype": "text/x-python",
   "name": "python",
   "nbconvert_exporter": "python",
   "pygments_lexer": "ipython3",
   "version": "3.7.4"
  }
 },
 "nbformat": 4,
 "nbformat_minor": 4
}
