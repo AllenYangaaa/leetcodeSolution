{
 "cells": [
  {
   "cell_type": "code",
   "execution_count": 17,
   "metadata": {},
   "outputs": [
    {
     "name": "stdout",
     "output_type": "stream",
     "text": [
      "[[1, 1, 0, 0, 0], [1, 1, 0, 0, 0]] False\n",
      "[[2, 2, 1, 0, 0], [2, 2, 1, 0, 0]] False\n",
      "[[4, 5, 3, 1, 0], [4, 5, 3, 1, 0]] False\n",
      "[[9, 12, 9, 4, 1], [9, 12, 9, 4, 1]] False\n",
      "9\n"
     ]
    }
   ],
   "source": [
    "class Solution(object):\n",
    "    def UniquePath(self, r, c):\n",
    "        dp = [[0]*(r) for _ in range(2)]\n",
    "        dp[0][0]=1\n",
    "        for j in range(1,c):\n",
    "            for i in range(r):\n",
    "                v1 = dp[0][i-1] if i-1>=0 else 0\n",
    "                v2 = dp[0][i]\n",
    "                v3 = dp[0][i+1] if i+1 <r else 0\n",
    "                dp[1][i] = v1+v2+v3\n",
    "            dp[0][:] = dp[1][:]\n",
    "            print (dp, dp[0] is dp[1])\n",
    "        return dp[0][0]\n",
    "        \n",
    "a = Solution()\n",
    "print (a.UniquePath(5,5))"
   ]
  },
  {
   "cell_type": "code",
   "execution_count": null,
   "metadata": {},
   "outputs": [],
   "source": []
  }
 ],
 "metadata": {
  "kernelspec": {
   "display_name": "Python 3",
   "language": "python",
   "name": "python3"
  },
  "language_info": {
   "codemirror_mode": {
    "name": "ipython",
    "version": 3
   },
   "file_extension": ".py",
   "mimetype": "text/x-python",
   "name": "python",
   "nbconvert_exporter": "python",
   "pygments_lexer": "ipython3",
   "version": "3.7.4"
  }
 },
 "nbformat": 4,
 "nbformat_minor": 4
}
