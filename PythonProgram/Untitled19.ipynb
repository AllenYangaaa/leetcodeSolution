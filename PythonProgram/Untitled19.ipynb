{
 "cells": [
  {
   "cell_type": "code",
   "execution_count": 1,
   "metadata": {},
   "outputs": [
    {
     "name": "stdout",
     "output_type": "stream",
     "text": [
      "11\n"
     ]
    }
   ],
   "source": [
    "class Solution():\n",
    "    def splitNum(self, num):\n",
    "        a = num//10\n",
    "        b = num%10\n",
    "        res = abs(a-b)\n",
    "        while a:\n",
    "            a,b = a//10, 10*(a%10)+b\n",
    "            res = min(res, abs(a-b))\n",
    "        return res\n",
    "\n",
    "a = Solution()\n",
    "print (a.splitNum(12001)) #11\n",
    "            \n",
    "            "
   ]
  },
  {
   "cell_type": "code",
   "execution_count": null,
   "metadata": {},
   "outputs": [],
   "source": []
  }
 ],
 "metadata": {
  "kernelspec": {
   "display_name": "Python 3",
   "language": "python",
   "name": "python3"
  },
  "language_info": {
   "codemirror_mode": {
    "name": "ipython",
    "version": 3
   },
   "file_extension": ".py",
   "mimetype": "text/x-python",
   "name": "python",
   "nbconvert_exporter": "python",
   "pygments_lexer": "ipython3",
   "version": "3.7.4"
  }
 },
 "nbformat": 4,
 "nbformat_minor": 4
}
