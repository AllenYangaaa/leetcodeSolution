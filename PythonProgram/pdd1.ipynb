{
 "cells": [
  {
   "cell_type": "code",
   "execution_count": 5,
   "metadata": {},
   "outputs": [
    {
     "name": "stdout",
     "output_type": "stream",
     "text": [
      "6\n",
      "1\n"
     ]
    }
   ],
   "source": [
    "class Solution(object):\n",
    "    def pdd(self,N,arr):\n",
    "        arr.sort()\n",
    "        hashSet = set()\n",
    "        ans = 0\n",
    "        for i in range(len(arr)):\n",
    "            if not hashSet or arr[i] not in hashSet:\n",
    "                hashSet.add(arr[i])\n",
    "            else:\n",
    "                t = max(hashSet)+1\n",
    "                hashSet.add(t)\n",
    "                ans+=t-arr[i]\n",
    "        \n",
    "        return ans\n",
    "a = Solution()\n",
    "print (a.pdd(5,[3,3,4,4,5]))\n",
    "print (a.pdd(4,[1,3,1,4]))"
   ]
  },
  {
   "cell_type": "code",
   "execution_count": null,
   "metadata": {},
   "outputs": [],
   "source": []
  },
  {
   "cell_type": "code",
   "execution_count": null,
   "metadata": {},
   "outputs": [],
   "source": []
  }
 ],
 "metadata": {
  "kernelspec": {
   "display_name": "Python 3",
   "language": "python",
   "name": "python3"
  },
  "language_info": {
   "codemirror_mode": {
    "name": "ipython",
    "version": 3
   },
   "file_extension": ".py",
   "mimetype": "text/x-python",
   "name": "python",
   "nbconvert_exporter": "python",
   "pygments_lexer": "ipython3",
   "version": "3.7.4"
  }
 },
 "nbformat": 4,
 "nbformat_minor": 4
}
