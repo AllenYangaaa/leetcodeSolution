{
 "cells": [
  {
   "cell_type": "code",
   "execution_count": 1,
   "metadata": {},
   "outputs": [
    {
     "name": "stdout",
     "output_type": "stream",
     "text": [
      "0 {\n",
      "1 1\n",
      "14 ,\n",
      "15  \n",
      "16 2\n",
      "{'1': ' ', '2': ' '}\n"
     ]
    }
   ],
   "source": [
    "### json to dic\n",
    "## TODO\n",
    "json = str({1:{1:{1:5},2:3}})\n",
    "def recursive(string):\n",
    "    dic = {}\n",
    "    i = 0\n",
    "    while i < len(string):\n",
    "        if string[i] == \":\":\n",
    "            if string[i+1] == \"{\":\n",
    "                print (i)\n",
    "                j = i\n",
    "                left = 0\n",
    "                right = 0\n",
    "                ### left,right记录左右括号的数量\n",
    "                while  left > right and j < len(dic):\n",
    "                    if dic[j] == \"{\":\n",
    "                        left  += 1\n",
    "                    if dic[j] == \"}\":\n",
    "                        right += 1\n",
    "                dic[string[i-1]] = recursive(dic[i:j+1])\n",
    "                i = j + 1\n",
    "                continue\n",
    "            else:\n",
    "                dic[string[i-1]] = string[i+1]\n",
    "                j = i\n",
    "                while j < len(string) and string[j] != \",\":\n",
    "                    j += 1\n",
    "                i = j\n",
    "                continue\n",
    "        print (i,string[i])\n",
    "        i += 1\n",
    "    return dic                 \n",
    "print (recursive(json))"
   ]
  },
  {
   "cell_type": "code",
   "execution_count": null,
   "metadata": {},
   "outputs": [],
   "source": []
  }
 ],
 "metadata": {
  "kernelspec": {
   "display_name": "Python 3",
   "language": "python",
   "name": "python3"
  },
  "language_info": {
   "codemirror_mode": {
    "name": "ipython",
    "version": 3
   },
   "file_extension": ".py",
   "mimetype": "text/x-python",
   "name": "python",
   "nbconvert_exporter": "python",
   "pygments_lexer": "ipython3",
   "version": "3.7.4"
  }
 },
 "nbformat": 4,
 "nbformat_minor": 4
}
