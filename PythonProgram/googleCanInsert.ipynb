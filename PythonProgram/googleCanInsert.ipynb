{
 "cells": [
  {
   "cell_type": "code",
   "execution_count": 22,
   "metadata": {},
   "outputs": [
    {
     "name": "stdout",
     "output_type": "stream",
     "text": [
      "1\n",
      "True\n",
      "1\n",
      "False\n",
      "2\n",
      "False\n"
     ]
    }
   ],
   "source": [
    "import bisect\n",
    "class Solution():\n",
    "    def canInsert(self, inPut, newInterval):\n",
    "        # input -> List of list\n",
    "        # newInterval -> to be added List\n",
    "        if not inPut and newInterval:\n",
    "            return True\n",
    "        inPut.sort(key = lambda x: (x[0],x[1]))\n",
    "#         pos = bisect.bisect(inPut, newInterval)\n",
    "        def binarySearch(sortedArr, num):\n",
    "            #cornor cases:\n",
    "            if not sortedArr:\n",
    "                return -1\n",
    "            if num>sortedArr[-1][0]:\n",
    "                return len(sortedArr)\n",
    "            l,r = 0, len(sortedArr)-1\n",
    "            while l<r:\n",
    "                mid = l+ (r-l)//2\n",
    "                if sortedArr[mid][0]<= num:\n",
    "                    l = mid+1\n",
    "                else:\n",
    "                    r = mid\n",
    "            return l\n",
    "        pos = binarySearch(inPut, newInterval[0])\n",
    "        print( pos)\n",
    "            \n",
    "        # corner cases\n",
    "        if pos==0:\n",
    "            return inPut[0][0]>=newInterval[0]+newInterval[1]\n",
    "        elif pos == len(inPut):\n",
    "            return inPut[-1][0]+inPut[-1][1]<= newInterval[0]\n",
    "        else:\n",
    "            return inPut[pos][0]>=newInterval[0]+newInterval[1] and inPut[pos-1][0]+inPut[pos-1][1]<=newInterval[0]\n",
    "        \n",
    "            \n",
    "    \n",
    "    \n",
    "    \n",
    "    \n",
    "a = Solution()\n",
    "print (a.canInsert([[0,1],[3,4]],[1,2]))\n",
    "print (a.canInsert([[0,1],[2,4]],[1,2]))\n",
    "print (a.canInsert([[0,2],[3,4]],[4,2]))\n",
    "\n",
    "\n"
   ]
  },
  {
   "cell_type": "code",
   "execution_count": null,
   "metadata": {},
   "outputs": [],
   "source": []
  },
  {
   "cell_type": "code",
   "execution_count": null,
   "metadata": {},
   "outputs": [],
   "source": []
  }
 ],
 "metadata": {
  "kernelspec": {
   "display_name": "Python 3",
   "language": "python",
   "name": "python3"
  },
  "language_info": {
   "codemirror_mode": {
    "name": "ipython",
    "version": 3
   },
   "file_extension": ".py",
   "mimetype": "text/x-python",
   "name": "python",
   "nbconvert_exporter": "python",
   "pygments_lexer": "ipython3",
   "version": "3.7.4"
  }
 },
 "nbformat": 4,
 "nbformat_minor": 4
}
