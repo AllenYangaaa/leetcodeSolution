{
 "cells": [
  {
   "cell_type": "code",
   "execution_count": 12,
   "metadata": {},
   "outputs": [
    {
     "name": "stdout",
     "output_type": "stream",
     "text": [
      "After Union 0  and  1  ,the area =  [2, 1, 1, 1, 1, 1, 1, 1, 1, 1]\n",
      "After Union 2  and  3  ,the area =  [2, 1, 2, 1, 1, 1, 1, 1, 1, 1]\n",
      "After Union 1  and  2  ,the area =  [4, 1, 2, 1, 1, 1, 1, 1, 1, 1]\n",
      "getArea(1)= 4\n",
      "getArea(4)= 1\n"
     ]
    }
   ],
   "source": [
    "class DSU():\n",
    "    def __init__(self, N):\n",
    "        self.par = [i for i in range(N)]\n",
    "        self.area = [1]*N\n",
    "        #self.yRange = [[y-r,y+r] for x,y,r in circles]\n",
    "    def find(self, x):\n",
    "        if self.par[x]!=x:\n",
    "            self.par[x] = self.find(self.par[x])\n",
    "        return self.par[x]\n",
    "    def union(self,x,y):\n",
    "        xr = self.find(x)\n",
    "        yr = self.find(y)\n",
    "        self.area[xr] = self.area[yr]+self.area[xr]\n",
    "        self.par[yr] = xr\n",
    "        #self.yRange[xr] = [min(self.yRange[xr][0], self.yRange[yr][0]),\n",
    "                          max(self.yRange[xr][1], self.yRange[yr][1])]\n",
    "        print('After Union',x,' and ',y,' ,the area = ',self.area)\n",
    "        return\n",
    "    def getArea(self, x):\n",
    "        xr = self.find(x)\n",
    "        return self.area[xr]\n",
    "        \n",
    "class Solution():\n",
    "    def testDSU(self, n):\n",
    "        if n<=4:\n",
    "            return\n",
    "#         dsu = DSU(n,yTop, yBottom)\n",
    "        dsu.union(0,1)\n",
    "        dsu.union(2,3)\n",
    "        dsu.union(1,2)\n",
    "        print('getArea(1)=',dsu.getArea(1))\n",
    "        print('getArea(4)=',dsu.getArea(4))\n",
    "#         for i in range(n):\n",
    "#             if isBlocked(dsu.find(i)):\n",
    "#                 return False\n",
    "#         return True\n",
    "        return \n",
    "a = Solution()\n",
    "a.testDSU(10)\n",
    "\n",
    "        "
   ]
  },
  {
   "cell_type": "code",
   "execution_count": null,
   "metadata": {},
   "outputs": [],
   "source": []
  },
  {
   "cell_type": "code",
   "execution_count": null,
   "metadata": {},
   "outputs": [],
   "source": []
  }
 ],
 "metadata": {
  "kernelspec": {
   "display_name": "Python 3",
   "language": "python",
   "name": "python3"
  },
  "language_info": {
   "codemirror_mode": {
    "name": "ipython",
    "version": 3
   },
   "file_extension": ".py",
   "mimetype": "text/x-python",
   "name": "python",
   "nbconvert_exporter": "python",
   "pygments_lexer": "ipython3",
   "version": "3.7.4"
  }
 },
 "nbformat": 4,
 "nbformat_minor": 4
}
