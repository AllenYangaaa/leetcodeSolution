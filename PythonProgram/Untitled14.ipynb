{
 "cells": [
  {
   "cell_type": "code",
   "execution_count": null,
   "metadata": {},
   "outputs": [],
   "source": [
    "class Solution(object):\n",
    "    def binarySearch(self, arr, target):\n",
    "        arr.sort()\n",
    "        l,r = 0, len(arr)-1\n",
    "        while l<r:\n",
    "            mid = (l+r)//2\n",
    "            #先写可以排除中位数的逻辑\n",
    "            if arr[mid]<target:\n",
    "                l = mid+1\n",
    "            else:\n",
    "                r = mid\n",
    "        if arr[l]<target:\n",
    "            l+=1\n",
    "        return l\n",
    "a = Solution()\n",
    "print (a.binarySearch([7,6,5,4,3,2,1],5))"
   ]
  }
 ],
 "metadata": {
  "kernelspec": {
   "display_name": "Python 3",
   "language": "python",
   "name": "python3"
  },
  "language_info": {
   "codemirror_mode": {
    "name": "ipython",
    "version": 3
   },
   "file_extension": ".py",
   "mimetype": "text/x-python",
   "name": "python",
   "nbconvert_exporter": "python",
   "pygments_lexer": "ipython3",
   "version": "3.7.4"
  }
 },
 "nbformat": 4,
 "nbformat_minor": 4
}
