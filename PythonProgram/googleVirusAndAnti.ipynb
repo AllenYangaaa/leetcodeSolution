{
 "cells": [
  {
   "cell_type": "code",
   "execution_count": 6,
   "metadata": {},
   "outputs": [
    {
     "name": "stdout",
     "output_type": "stream",
     "text": [
      "3\n"
     ]
    }
   ],
   "source": [
    "'''\n",
    " 有个图，有个virus 和 antiVirus分别在某个node,每次move向周围的node感染，virus先走\n",
    " 如果这个点被virus感染了 antiVirus就不能感染，反之一样\n",
    " return antiVirus最终状态占领的node数\n",
    "'''\n",
    "import collections\n",
    "class Solution():\n",
    "    def getAntiNumber(self, edges, virus, anti):\n",
    "        graph = collections.defaultdict(set)\n",
    "        for u,v in edges:\n",
    "            graph[u].add(v)\n",
    "            graph[v].add(u)\n",
    "        queue = collections.deque()\n",
    "        queue.append(virus)\n",
    "        queue.append(anti)\n",
    "        virusNum = 1\n",
    "        antiNum = 1\n",
    "        nxtVirusNum = 0\n",
    "        nxtAntiNum = 0\n",
    "        visited = set()\n",
    "        visited.add(virus)\n",
    "        visited.add(anti)\n",
    "        res = 1\n",
    "        while queue:\n",
    "            while virusNum:\n",
    "                virusNum-=1\n",
    "                cur = queue.popleft()\n",
    "                for nxt in graph[cur]:\n",
    "                    if nxt not in visited:\n",
    "                        visited.add(nxt)\n",
    "                        queue.append(nxt)\n",
    "                        nxtVirusNum+=1\n",
    "            virusNum = nxtVirusNum\n",
    "            nxtVirusNum=0\n",
    "            while antiNum:\n",
    "                antiNum-=1\n",
    "                cur = queue.popleft()\n",
    "                for nxt in graph[cur]:\n",
    "                    if nxt not in visited:\n",
    "                        visited.add(nxt)\n",
    "                        queue.append(nxt)\n",
    "                        nxtAntiNum+=1\n",
    "            antiNum = nxtAntiNum\n",
    "            nxtAntiNum= 0\n",
    "            res+=antiNum\n",
    "        return res\n",
    "            \n",
    "\n",
    "a = Solution()\n",
    "print (a.getAntiNumber([[0,1],[0,3],[1,2],[1,4],[2,5],[3,4],[3,6],[4,5],[4,7],[5,8],[6,7],[7,8]],0,8))\n",
    "'''\n",
    "  V--V--V\n",
    "  |  |  |\n",
    "  V--V--A\n",
    "  |  |  |\n",
    "  V--A--A\n",
    "tc: O(E+V*2)=> O(E+V) E-> length of edges\n",
    "sc: O(E)\n",
    "\n",
    "'''\n",
    "\n"
   ]
  },
  {
   "cell_type": "code",
   "execution_count": null,
   "metadata": {},
   "outputs": [],
   "source": []
  }
 ],
 "metadata": {
  "kernelspec": {
   "display_name": "Python 3",
   "language": "python",
   "name": "python3"
  },
  "language_info": {
   "codemirror_mode": {
    "name": "ipython",
    "version": 3
   },
   "file_extension": ".py",
   "mimetype": "text/x-python",
   "name": "python",
   "nbconvert_exporter": "python",
   "pygments_lexer": "ipython3",
   "version": "3.7.4"
  }
 },
 "nbformat": 4,
 "nbformat_minor": 4
}
