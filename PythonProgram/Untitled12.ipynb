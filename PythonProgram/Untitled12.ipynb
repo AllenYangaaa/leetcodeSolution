{
 "cells": [
  {
   "cell_type": "code",
   "execution_count": 19,
   "metadata": {},
   "outputs": [
    {
     "name": "stdout",
     "output_type": "stream",
     "text": [
      "4999997550\n"
     ]
    }
   ],
   "source": [
    "class Solution(object):\n",
    "    def test2(self,arr,n):\n",
    "        mx = max(arr)\n",
    "        res = 0\n",
    "        while mx>=n:\n",
    "            times = mx//n\n",
    "            flag = 0\n",
    "            for i in range(len(arr)):\n",
    "                if arr[i]==mx and flag==0:\n",
    "                    arr[i]=mx-n*times\n",
    "                    flag = 1\n",
    "                else:\n",
    "                    arr[i]= arr[i]+times\n",
    "            res+=times\n",
    "            mx = max(arr)\n",
    "        return res\n",
    "a = Solution()\n",
    "\n",
    "print (a.test2([10**8]*50,50))"
   ]
  },
  {
   "cell_type": "code",
   "execution_count": null,
   "metadata": {},
   "outputs": [],
   "source": []
  },
  {
   "cell_type": "code",
   "execution_count": null,
   "metadata": {},
   "outputs": [],
   "source": []
  }
 ],
 "metadata": {
  "kernelspec": {
   "display_name": "Python 3",
   "language": "python",
   "name": "python3"
  },
  "language_info": {
   "codemirror_mode": {
    "name": "ipython",
    "version": 3
   },
   "file_extension": ".py",
   "mimetype": "text/x-python",
   "name": "python",
   "nbconvert_exporter": "python",
   "pygments_lexer": "ipython3",
   "version": "3.7.4"
  }
 },
 "nbformat": 4,
 "nbformat_minor": 4
}
