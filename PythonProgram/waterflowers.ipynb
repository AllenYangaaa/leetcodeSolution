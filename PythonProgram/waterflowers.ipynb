{
 "cells": [
  {
   "cell_type": "code",
   "execution_count": 2,
   "metadata": {},
   "outputs": [
    {
     "name": "stdout",
     "output_type": "stream",
     "text": [
      "13\n",
      "0\n"
     ]
    }
   ],
   "source": [
    "def waterflowers(C, A):\n",
    "    ans = len(A)\n",
    "    cur = C\n",
    "    for i in range(len(A)):\n",
    "        if cur<A[i]:\n",
    "            cur = C-A[i]\n",
    "            ans+=i*2\n",
    "            continue\n",
    "        cur -=A[i]\n",
    "    return ans\n",
    "            \n",
    "    \n",
    "    \n",
    "print (waterflowers(3,[2, 2, 1, 1, 2]))\n",
    "print (waterflowers(3,[]))"
   ]
  },
  {
   "cell_type": "code",
   "execution_count": null,
   "metadata": {},
   "outputs": [],
   "source": []
  }
 ],
 "metadata": {
  "kernelspec": {
   "display_name": "Python 3",
   "language": "python",
   "name": "python3"
  },
  "language_info": {
   "codemirror_mode": {
    "name": "ipython",
    "version": 3
   },
   "file_extension": ".py",
   "mimetype": "text/x-python",
   "name": "python",
   "nbconvert_exporter": "python",
   "pygments_lexer": "ipython3",
   "version": "3.7.4"
  }
 },
 "nbformat": 4,
 "nbformat_minor": 4
}
