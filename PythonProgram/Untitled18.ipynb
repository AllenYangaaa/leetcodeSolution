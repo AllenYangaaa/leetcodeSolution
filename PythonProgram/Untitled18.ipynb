{
 "cells": [
  {
   "cell_type": "code",
   "execution_count": 15,
   "metadata": {},
   "outputs": [
    {
     "name": "stdout",
     "output_type": "stream",
     "text": [
      "1 1\n",
      "4367836304 4367836304\n",
      "2 1\n",
      "4367836336 4367836304\n",
      "4367836304 4367836304\n",
      "1\n",
      "4367836304\n",
      "-3 2\n",
      "128\n",
      "\\n\n",
      "[5, 4, 3, 2, 1]\n"
     ]
    }
   ],
   "source": [
    "val1 = 1\n",
    "val2 = 1\n",
    "print (val1, val2)\n",
    "print (id(val1), id(val2))\n",
    "val1 += 1\n",
    "print (val1, val2)\n",
    "print (id(val1), id(val2))\n",
    "\n",
    "val1 -= 1\n",
    "\n",
    "print (id(val1), id(val2))\n",
    "\n",
    "del val1, val2\n",
    "val1 = 1\n",
    "print (val1)\n",
    "print (id(val1))\n",
    "\n",
    "val3 = -5\n",
    "val4 = 5\n",
    "'''\n",
    "//是向下取整\n",
    "'''\n",
    "print(val3//2, val4//2)\n",
    "\n",
    "print (2 ** 7)  # 2 to the power of 7\n",
    "\n",
    "print (r'\\n')\n",
    "\n",
    "list1 = [1,2,3,4,5]\n",
    "\n",
    "list1.sort(key = lambda x:-x)\n",
    "print (list1)\n"
   ]
  },
  {
   "cell_type": "code",
   "execution_count": null,
   "metadata": {},
   "outputs": [],
   "source": []
  }
 ],
 "metadata": {
  "kernelspec": {
   "display_name": "Python 3",
   "language": "python",
   "name": "python3"
  },
  "language_info": {
   "codemirror_mode": {
    "name": "ipython",
    "version": 3
   },
   "file_extension": ".py",
   "mimetype": "text/x-python",
   "name": "python",
   "nbconvert_exporter": "python",
   "pygments_lexer": "ipython3",
   "version": "3.7.4"
  }
 },
 "nbformat": 4,
 "nbformat_minor": 4
}
